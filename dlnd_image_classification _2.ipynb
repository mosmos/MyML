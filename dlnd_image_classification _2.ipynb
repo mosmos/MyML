{
 "cells": [
  {
   "cell_type": "markdown",
   "metadata": {
    "collapsed": true
   },
   "source": [
    "# Image Classification\n",
    "In this project, you'll classify images from the [CIFAR-10 dataset](https://www.cs.toronto.edu/~kriz/cifar.html).  The dataset consists of airplanes, dogs, cats, and other objects. You'll preprocess the images, then train a convolutional neural network on all the samples. The images need to be normalized and the labels need to be one-hot encoded.  You'll get to apply what you learned and build a convolutional, max pooling, dropout, and fully connected layers.  At the end, you'll get to see your neural network's predictions on the sample images.\n",
    "## Get the Data\n",
    "Run the following cell to download the [CIFAR-10 dataset for python](https://www.cs.toronto.edu/~kriz/cifar-10-python.tar.gz)."
   ]
  },
  {
   "cell_type": "code",
   "execution_count": 1,
   "metadata": {},
   "outputs": [
    {
     "name": "stderr",
     "output_type": "stream",
     "text": [
      "CIFAR-10 Dataset: 171MB [02:32, 1.12MB/s]                                      \n"
     ]
    },
    {
     "name": "stdout",
     "output_type": "stream",
     "text": [
      "All files found!\n"
     ]
    }
   ],
   "source": [
    "\"\"\"\n",
    "DON'T MODIFY ANYTHING IN THIS CELL THAT IS BELOW THIS LINE\n",
    "\"\"\"\n",
    "from urllib.request import urlretrieve\n",
    "from os.path import isfile, isdir\n",
    "from tqdm import tqdm\n",
    "import problem_unittests as tests\n",
    "import tarfile\n",
    "\n",
    "cifar10_dataset_folder_path = 'cifar-10-batches-py'\n",
    "\n",
    "# Use Floyd's cifar-10 dataset if present\n",
    "floyd_cifar10_location = '/input/cifar-10/python.tar.gz'\n",
    "if isfile(floyd_cifar10_location):\n",
    "    tar_gz_path = floyd_cifar10_location\n",
    "else:\n",
    "    tar_gz_path = 'cifar-10-python.tar.gz'\n",
    "\n",
    "class DLProgress(tqdm):\n",
    "    last_block = 0\n",
    "\n",
    "    def hook(self, block_num=1, block_size=1, total_size=None):\n",
    "        self.total = total_size\n",
    "        self.update((block_num - self.last_block) * block_size)\n",
    "        self.last_block = block_num\n",
    "\n",
    "if not isfile(tar_gz_path):\n",
    "    with DLProgress(unit='B', unit_scale=True, miniters=1, desc='CIFAR-10 Dataset') as pbar:\n",
    "        urlretrieve(\n",
    "            'https://www.cs.toronto.edu/~kriz/cifar-10-python.tar.gz',\n",
    "            tar_gz_path,\n",
    "            pbar.hook)\n",
    "\n",
    "if not isdir(cifar10_dataset_folder_path):\n",
    "    with tarfile.open(tar_gz_path) as tar:\n",
    "        tar.extractall()\n",
    "        tar.close()\n",
    "\n",
    "\n",
    "tests.test_folder_path(cifar10_dataset_folder_path)"
   ]
  },
  {
   "cell_type": "markdown",
   "metadata": {},
   "source": [
    "## Explore the Data\n",
    "The dataset is broken into batches to prevent your machine from running out of memory.  The CIFAR-10 dataset consists of 5 batches, named `data_batch_1`, `data_batch_2`, etc.. Each batch contains the labels and images that are one of the following:\n",
    "* airplane\n",
    "* automobile\n",
    "* bird\n",
    "* cat\n",
    "* deer\n",
    "* dog\n",
    "* frog\n",
    "* horse\n",
    "* ship\n",
    "* truck\n",
    "\n",
    "Understanding a dataset is part of making predictions on the data.  Play around with the code cell below by changing the `batch_id` and `sample_id`. The `batch_id` is the id for a batch (1-5). The `sample_id` is the id for a image and label pair in the batch.\n",
    "\n",
    "Ask yourself \"What are all possible labels?\", \"What is the range of values for the image data?\", \"Are the labels in order or random?\".  Answers to questions like these will help you preprocess the data and end up with better predictions."
   ]
  },
  {
   "cell_type": "code",
   "execution_count": 6,
   "metadata": {},
   "outputs": [
    {
     "name": "stdout",
     "output_type": "stream",
     "text": [
      "\n",
      "Stats of batch 1:\n",
      "Samples: 10000\n",
      "Label Counts: {0: 1005, 1: 974, 2: 1032, 3: 1016, 4: 999, 5: 937, 6: 1030, 7: 1001, 8: 1025, 9: 981}\n",
      "First 20 Labels: [6, 9, 9, 4, 1, 1, 2, 7, 8, 3, 4, 7, 7, 2, 9, 9, 9, 3, 2, 6]\n",
      "\n",
      "Example of Image 7:\n",
      "Image - Min Value: 9 Max Value: 248\n",
      "Image - Shape: (32, 32, 3)\n",
      "Label - Label Id: 7 Name: horse\n"
     ]
    },
    {
     "data": {
      "image/png": "[encoded data removed]",
      "text/plain": [
       "<matplotlib.figure.Figure at 0x249e9223cc0>"
      ]
     },
     "metadata": {
      "image/png": {
       "height": 250,
       "width": 253
      }
     },
     "output_type": "display_data"
    }
   ],
   "source": [
    "%matplotlib inline\n",
    "%config InlineBackend.figure_format = 'retina'\n",
    "\n",
    "import helper\n",
    "import numpy as np\n",
    "\n",
    "# Explore the dataset\n",
    "batch_id = 1\n",
    "sample_id = 7\n",
    "helper.display_stats(cifar10_dataset_folder_path, batch_id, sample_id)"
   ]
  },
  {
   "cell_type": "markdown",
   "metadata": {},
   "source": [
    "## Implement Preprocess Functions\n",
    "### Normalize\n",
    "In the cell below, implement the `normalize` function to take in image data, `x`, and return it as a normalized Numpy array. The values should be in the range of 0 to 1, inclusive.  The return object should be the same shape as `x`."
   ]
  },
  {
   "cell_type": "code",
   "execution_count": 4,
   "metadata": {},
   "outputs": [
    {
     "name": "stdout",
     "output_type": "stream",
     "text": [
      "Tests Passed\n"
     ]
    }
   ],
   "source": [
    "def normalize(x):\n",
    "    \"\"\"\n",
    "    Normalize a list of sample image data in the range of 0 to 1\n",
    "    : x: List of image data.  The image shape is (32, 32, 3)\n",
    "    : return: Numpy array of normalize data\n",
    "    \"\"\"\n",
    "    # TODO: Implement Function\n",
    "    # try mean/std eg x => (x - Mean) / Deviation |will  not be 1-0\n",
    "    return x/255.0\n",
    "\n",
    "\n",
    "\"\"\"\n",
    "DON'T MODIFY ANYTHING IN THIS CELL THAT IS BELOW THIS LINE\n",
    "\"\"\"\n",
    "tests.test_normalize(normalize)"
   ]
  },
  {
   "cell_type": "markdown",
   "metadata": {},
   "source": [
    "### One-hot encode\n",
    "Just like the previous code cell, you'll be implementing a function for preprocessing.  This time, you'll implement the `one_hot_encode` function. The input, `x`, are a list of labels.  Implement the function to return the list of labels as One-Hot encoded Numpy array.  The possible values for labels are 0 to 9. The one-hot encoding function should return the same encoding for each value between each call to `one_hot_encode`.  Make sure to save the map of encodings outside the function.\n",
    "\n",
    "Hint: Don't reinvent the wheel."
   ]
  },
  {
   "cell_type": "code",
   "execution_count": 19,
   "metadata": {},
   "outputs": [
    {
     "name": "stdout",
     "output_type": "stream",
     "text": [
      "Tests Passed\n"
     ]
    }
   ],
   "source": [
    "def one_hot_encode(x):\n",
    "    \"\"\"\n",
    "    One hot encode a list of sample labels. Return a one-hot encoded vector for each label.\n",
    "    : x: List of sample Labels\n",
    "    : return: Numpy array of one-hot encoded labels\n",
    "    \"\"\"\n",
    "    # TODO: Implement Function\n",
    "    #print (np.identity(10)[x])\n",
    "    return np.identity(10)[x]\n",
    "\n",
    "\n",
    "\"\"\"\n",
    "DON'T MODIFY ANYTHING IN THIS CELL THAT IS BELOW THIS LINE\n",
    "\"\"\"\n",
    "tests.test_one_hot_encode(one_hot_encode)"
   ]
  },
  {
   "cell_type": "markdown",
   "metadata": {},
   "source": [
    "### Randomize Data\n",
    "As you saw from exploring the data above, the order of the samples are randomized.  It doesn't hurt to randomize it again, but you don't need to for this dataset."
   ]
  },
  {
   "cell_type": "markdown",
   "metadata": {},
   "source": [
    "## Preprocess all the data and save it\n",
    "Running the code cell below will preprocess all the CIFAR-10 data and save it to file. The code below also uses 10% of the training data for validation."
   ]
  },
  {
   "cell_type": "code",
   "execution_count": 20,
   "metadata": {
    "collapsed": true
   },
   "outputs": [],
   "source": [
    "\"\"\"\n",
    "DON'T MODIFY ANYTHING IN THIS CELL\n",
    "\"\"\"\n",
    "# Preprocess Training, Validation, and Testing Data\n",
    "helper.preprocess_and_save_data(cifar10_dataset_folder_path, normalize, one_hot_encode)"
   ]
  },
  {
   "cell_type": "markdown",
   "metadata": {},
   "source": [
    "# Check Point\n",
    "This is your first checkpoint.  If you ever decide to come back to this notebook or have to restart the notebook, you can start from here.  The preprocessed data has been saved to disk."
   ]
  },
  {
   "cell_type": "code",
   "execution_count": 21,
   "metadata": {
    "collapsed": true
   },
   "outputs": [],
   "source": [
    "\"\"\"\n",
    "DON'T MODIFY ANYTHING IN THIS CELL\n",
    "\"\"\"\n",
    "import pickle\n",
    "import problem_unittests as tests\n",
    "import helper\n",
    "\n",
    "# Load the Preprocessed Validation data\n",
    "valid_features, valid_labels = pickle.load(open('preprocess_validation.p', mode='rb'))"
   ]
  },
  {
   "cell_type": "markdown",
   "metadata": {},
   "source": [
    "## Build the network\n",
    "For the neural network, you'll build each layer into a function.  Most of the code you've seen has been outside of functions. To test your code more thoroughly, we require that you put each layer in a function.  This allows us to give you better feedback and test for simple mistakes using our unittests before you submit your project.\n",
    "\n",
    ">**Note:** If you're finding it hard to dedicate enough time for this course each week, we've provided a small shortcut to this part of the project. In the next couple of problems, you'll have the option to use classes from the [TensorFlow Layers](https://www.tensorflow.org/api_docs/python/tf/layers) or [TensorFlow Layers (contrib)](https://www.tensorflow.org/api_guides/python/contrib.layers) packages to build each layer, except the layers you build in the \"Convolutional and Max Pooling Layer\" section.  TF Layers is similar to Keras's and TFLearn's abstraction to layers, so it's easy to pickup.\n",
    "\n",
    ">However, if you would like to get the most out of this course, try to solve all the problems _without_ using anything from the TF Layers packages. You **can** still use classes from other packages that happen to have the same name as ones you find in TF Layers! For example, instead of using the TF Layers version of the `conv2d` class, [tf.layers.conv2d](https://www.tensorflow.org/api_docs/python/tf/layers/conv2d), you would want to use the TF Neural Network version of `conv2d`, [tf.nn.conv2d](https://www.tensorflow.org/api_docs/python/tf/nn/conv2d). \n",
    "\n",
    "Let's begin!\n",
    "\n",
    "### Input\n",
    "The neural network needs to read the image data, one-hot encoded labels, and dropout keep probability. Implement the following functions\n",
    "* Implement `neural_net_image_input`\n",
    " * Return a [TF Placeholder](https://www.tensorflow.org/api_docs/python/tf/placeholder)\n",
    " * Set the shape using `image_shape` with batch size set to `None`.\n",
    " * Name the TensorFlow placeholder \"x\" using the TensorFlow `name` parameter in the [TF Placeholder](https://www.tensorflow.org/api_docs/python/tf/placeholder).\n",
    "* Implement `neural_net_label_input`\n",
    " * Return a [TF Placeholder](https://www.tensorflow.org/api_docs/python/tf/placeholder)\n",
    " * Set the shape using `n_classes` with batch size set to `None`.\n",
    " * Name the TensorFlow placeholder \"y\" using the TensorFlow `name` parameter in the [TF Placeholder](https://www.tensorflow.org/api_docs/python/tf/placeholder).\n",
    "* Implement `neural_net_keep_prob_input`\n",
    " * Return a [TF Placeholder](https://www.tensorflow.org/api_docs/python/tf/placeholder) for dropout keep probability.\n",
    " * Name the TensorFlow placeholder \"keep_prob\" using the TensorFlow `name` parameter in the [TF Placeholder](https://www.tensorflow.org/api_docs/python/tf/placeholder).\n",
    "\n",
    "These names will be used at the end of the project to load your saved model.\n",
    "\n",
    "Note: `None` for shapes in TensorFlow allow for a dynamic size."
   ]
  },
  {
   "cell_type": "code",
   "execution_count": 23,
   "metadata": {},
   "outputs": [
    {
     "name": "stdout",
     "output_type": "stream",
     "text": [
      "Image Input Tests Passed.\n",
      "Label Input Tests Passed.\n",
      "Keep Prob Tests Passed.\n"
     ]
    }
   ],
   "source": [
    "import tensorflow as tf\n",
    "\n",
    "def neural_net_image_input(image_shape):\n",
    "    \"\"\"\n",
    "    Return a Tensor for a batch of image input\n",
    "    : image_shape: Shape of the images\n",
    "    : return: Tensor for image input.\n",
    "    \"\"\"\n",
    "    # TODO: Implement Function\n",
    "    shape = image_shape\n",
    "    img = tf.placeholder(tf.float32,shape=(None,shape[0],shape[1],shape[2]),name=\"x\")\n",
    "    return img\n",
    "\n",
    "\n",
    "def neural_net_label_input(n_classes):\n",
    "    \"\"\"\n",
    "    Return a Tensor for a batch of label input\n",
    "    : n_classes: Number of classes\n",
    "    : return: Tensor for label input.\n",
    "    \"\"\"\n",
    "    # TODO: Implement Function\n",
    "    return tf.placeholder (tf.float32,shape=(None,n_classes),name = \"y\")\n",
    "\n",
    "\n",
    "def neural_net_keep_prob_input():\n",
    "    \"\"\"\n",
    "    Return a Tensor for keep probability\n",
    "    : return: Tensor for keep probability.\n",
    "    \"\"\"\n",
    "    # TODO: Implement Function\n",
    "    return tf.placeholder(tf.float32,name = \"keep_prob\")\n",
    "\n",
    "\n",
    "\"\"\"\n",
    "DON'T MODIFY ANYTHING IN THIS CELL THAT IS BELOW THIS LINE\n",
    "\"\"\"\n",
    "tf.reset_default_graph()\n",
    "tests.test_nn_image_inputs(neural_net_image_input)\n",
    "tests.test_nn_label_inputs(neural_net_label_input)\n",
    "tests.test_nn_keep_prob_inputs(neural_net_keep_prob_input)"
   ]
  },
  {
   "cell_type": "markdown",
   "metadata": {},
   "source": [
    "### Convolution and Max Pooling Layer\n",
    "Convolution layers have a lot of success with images. For this code cell, you should implement the function `conv2d_maxpool` to apply convolution then max pooling:\n",
    "* Create the weight and bias using `conv_ksize`, `conv_num_outputs` and the shape of `x_tensor`.\n",
    "* Apply a convolution to `x_tensor` using weight and `conv_strides`.\n",
    " * We recommend you use same padding, but you're welcome to use any padding.\n",
    "* Add bias\n",
    "* Add a nonlinear activation to the convolution.\n",
    "* Apply Max Pooling using `pool_ksize` and `pool_strides`.\n",
    " * We recommend you use same padding, but you're welcome to use any padding.\n",
    "\n",
    "**Note:** You **can't** use [TensorFlow Layers](https://www.tensorflow.org/api_docs/python/tf/layers) or [TensorFlow Layers (contrib)](https://www.tensorflow.org/api_guides/python/contrib.layers) for **this** layer, but you can still use TensorFlow's [Neural Network](https://www.tensorflow.org/api_docs/python/tf/nn) package. You may still use the shortcut option for all the **other** layers."
   ]
  },
  {
   "cell_type": "code",
   "execution_count": 90,
   "metadata": {},
   "outputs": [
    {
     "name": "stdout",
     "output_type": "stream",
     "text": [
      "Tests Passed\n"
     ]
    }
   ],
   "source": [
    "def conv2d_maxpool(x_tensor, conv_num_outputs, conv_ksize, conv_strides, pool_ksize, pool_strides):\n",
    "    \"\"\"\n",
    "    Apply convolution then max pooling to x_tensor\n",
    "    :param x_tensor: TensorFlow Tensor\n",
    "    :param conv_num_outputs: Number of outputs for the convolutional layer\n",
    "    :param conv_ksize: kernal size 2-D Tuple for the convolutional layer\n",
    "    :param conv_strides: Stride 2-D Tuple for convolution\n",
    "    :param pool_ksize: kernal size 2-D Tuple for pool\n",
    "    :param pool_strides: Stride 2-D Tuple for pool\n",
    "    : return: A tensor that represents convolution and max pooling of x_tensor\n",
    "    \"\"\"\n",
    "    # TODO: Implement Function\n",
    "    W = tf.Variable(tf.truncated_normal([conv_ksize[0],conv_ksize[1],x_tensor.shape[3].value,conv_num_outputs],0,0.05))\n",
    "    B = tf.Variable(tf.constant([0.1]*conv_num_outputs))\n",
    "\n",
    "    conv = tf.nn.conv2d(x_tensor,W,strides=[1,conv_strides[0],conv_strides[1],1], padding = 'SAME')\n",
    "    conv = tf.nn.bias_add(conv,B)\n",
    "    #conv = tf.nn.relu(conv)\n",
    "    \n",
    "    maxpool = tf.nn.max_pool(conv,ksize = [1,pool_ksize[0],pool_ksize[1],1],strides = [1,pool_strides[0],pool_strides[1],1], padding='SAME')\n",
    "    # dont relu outside the maxpool\n",
    "    return tf.nn.relu(maxpool)\n",
    "\n",
    "\"\"\"\n",
    "DON'T MODIFY ANYTHING IN THIS CELL THAT IS BELOW THIS LINE\n",
    "\"\"\"\n",
    "tests.test_con_pool(conv2d_maxpool)"
   ]
  },
  {
   "cell_type": "markdown",
   "metadata": {},
   "source": [
    "### Flatten Layer\n",
    "Implement the `flatten` function to change the dimension of `x_tensor` from a 4-D tensor to a 2-D tensor.  The output should be the shape (*Batch Size*, *Flattened Image Size*). Shortcut option: you can use classes from the [TensorFlow Layers](https://www.tensorflow.org/api_docs/python/tf/layers) or [TensorFlow Layers (contrib)](https://www.tensorflow.org/api_guides/python/contrib.layers) packages for this layer. For more of a challenge, only use other TensorFlow packages."
   ]
  },
  {
   "cell_type": "code",
   "execution_count": 91,
   "metadata": {},
   "outputs": [
    {
     "name": "stdout",
     "output_type": "stream",
     "text": [
      "Tests Passed\n"
     ]
    }
   ],
   "source": [
    "def flatten(x_tensor):\n",
    "    \"\"\"\n",
    "    Flatten x_tensor to (Batch Size, Flattened Image Size)\n",
    "    : x_tensor: A tensor of size (Batch Size, ...), where ... are the image dimensions.\n",
    "    : return: A tensor of size (Batch Size, Flattened Image Size).\n",
    "    \"\"\"\n",
    "    # TODO: Implement Function\n",
    "    #print (tf.contrib.layers.flatten(x_tensor).shape)\n",
    "    #print (x_tensor.shape)\n",
    "    return tf.contrib.layers.flatten(x_tensor)\n",
    "\n",
    "\n",
    "\"\"\"\n",
    "DON'T MODIFY ANYTHING IN THIS CELL THAT IS BELOW THIS LINE\n",
    "\"\"\"\n",
    "tests.test_flatten(flatten)"
   ]
  },
  {
   "cell_type": "markdown",
   "metadata": {},
   "source": [
    "### Fully-Connected Layer\n",
    "Implement the `fully_conn` function to apply a fully connected layer to `x_tensor` with the shape (*Batch Size*, *num_outputs*). Shortcut option: you can use classes from the [TensorFlow Layers](https://www.tensorflow.org/api_docs/python/tf/layers) or [TensorFlow Layers (contrib)](https://www.tensorflow.org/api_guides/python/contrib.layers) packages for this layer. For more of a challenge, only use other TensorFlow packages."
   ]
  },
  {
   "cell_type": "code",
   "execution_count": 92,
   "metadata": {},
   "outputs": [
    {
     "name": "stdout",
     "output_type": "stream",
     "text": [
      "Tests Passed\n"
     ]
    }
   ],
   "source": [
    "def fully_conn(x_tensor, num_outputs):\n",
    "    \"\"\"\n",
    "    Apply a fully connected layer to x_tensor using weight and bias\n",
    "    : x_tensor: A 2-D tensor where the first dimension is batch size.\n",
    "    : num_outputs: The number of output that the new tensor should be.\n",
    "    : return: A 2-D tensor where the second dimension is num_outputs.\n",
    "    \"\"\"\n",
    "    # TODO: Implement Function\n",
    "    lyr =tf.contrib.layers.fully_connected(x_tensor,num_outputs)\n",
    "    # relu is the default activation of tf...fully_connected...\n",
    "    return  lyr\n",
    "\n",
    "\n",
    "\"\"\"\n",
    "DON'T MODIFY ANYTHING IN THIS CELL THAT IS BELOW THIS LINE\n",
    "\"\"\"\n",
    "tests.test_fully_conn(fully_conn)"
   ]
  },
  {
   "cell_type": "markdown",
   "metadata": {},
   "source": [
    "### Output Layer\n",
    "Implement the `output` function to apply a fully connected layer to `x_tensor` with the shape (*Batch Size*, *num_outputs*). Shortcut option: you can use classes from the [TensorFlow Layers](https://www.tensorflow.org/api_docs/python/tf/layers) or [TensorFlow Layers (contrib)](https://www.tensorflow.org/api_guides/python/contrib.layers) packages for this layer. For more of a challenge, only use other TensorFlow packages.\n",
    "\n",
    "**Note:** Activation, softmax, or cross entropy should **not** be applied to this."
   ]
  },
  {
   "cell_type": "code",
   "execution_count": 93,
   "metadata": {},
   "outputs": [
    {
     "name": "stdout",
     "output_type": "stream",
     "text": [
      "Tests Passed\n"
     ]
    }
   ],
   "source": [
    "def output(x_tensor, num_outputs):\n",
    "    \"\"\"\n",
    "    Apply a output layer to x_tensor using weight and bias\n",
    "    : x_tensor: A 2-D tensor where the first dimension is batch size.\n",
    "    : num_outputs: The number of output that the new tensor should be.\n",
    "    : return: A 2-D tensor where the second dimension is num_outputs.\n",
    "    \"\"\"\n",
    "    # TODO: Implement Function\n",
    "    W_shape = x_tensor.shape[1].value\n",
    "    W = tf.Variable(tf.truncated_normal((W_shape, num_outputs),0,0.05))\n",
    "    B = tf.Variable(tf.constant((0.1)*num_outputs))\n",
    "    S = tf.add(tf.matmul(x_tensor,W),B) #no activation\n",
    "    return S\n",
    "\n",
    "\n",
    "\"\"\"\n",
    "DON'T MODIFY ANYTHING IN THIS CELL THAT IS BELOW THIS LINE\n",
    "\"\"\"\n",
    "tests.test_output(output)"
   ]
  },
  {
   "cell_type": "markdown",
   "metadata": {},
   "source": [
    "### Create Convolutional Model\n",
    "Implement the function `conv_net` to create a convolutional neural network model. The function takes in a batch of images, `x`, and outputs logits.  Use the layers you created above to create this model:\n",
    "\n",
    "* Apply 1, 2, or 3 Convolution and Max Pool layers\n",
    "* Apply a Flatten Layer\n",
    "* Apply 1, 2, or 3 Fully Connected Layers\n",
    "* Apply an Output Layer\n",
    "* Return the output\n",
    "* Apply [TensorFlow's Dropout](https://www.tensorflow.org/api_docs/python/tf/nn/dropout) to one or more layers in the model using `keep_prob`. "
   ]
  },
  {
   "cell_type": "code",
   "execution_count": 94,
   "metadata": {},
   "outputs": [
    {
     "name": "stdout",
     "output_type": "stream",
     "text": [
      "Neural Network Built!\n"
     ]
    }
   ],
   "source": [
    "def conv_net(x, keep_prob):\n",
    "    \"\"\"\n",
    "    Create a convolutional neural network model\n",
    "    : x: Placeholder tensor that holds image data.\n",
    "    : keep_prob: Placeholder tensor that hold dropout keep probability.\n",
    "    : return: Tensor that represents logits\n",
    "    \"\"\"\n",
    "    # TODO: Apply 1, 2, or 3 Convolution and Max Pool layers\n",
    "    #    Play around with different number of outputs, kernel size and stride\n",
    "    # Function Definition from Above:\n",
    "    #    conv2d_maxpool(x_tensor, conv_num_outputs, conv_ksize, conv_strides, pool_ksize, pool_strides)\n",
    "    maxpool = conv2d_maxpool(x,       16, (3, 3), (2, 2), (2, 2), (2, 2))\n",
    "    maxpool = conv2d_maxpool(maxpool, 32, (6, 6), (2, 2), (2, 2), (2, 2))\n",
    "    \n",
    "\n",
    "\n",
    "    # TODO: Apply a Flatten Layer\n",
    "    # Function Definition from Above:\n",
    "    #   flatten(x_tensor)\n",
    "    x = flatten(maxpool)\n",
    "\n",
    "    # TODO: Apply 1, 2, or 3 Fully Connected Layers\n",
    "    #    Play around with different number of outputs\n",
    "    # Function Definition from Above:\n",
    "    #   fully_conn(x_tensor, num_outputs)\n",
    "    x = fully_conn(x, 200)\n",
    "    x = tf.nn.dropout(x, keep_prob)\n",
    "    x = fully_conn(x, 100)\n",
    "    x = tf.nn.dropout(x, keep_prob)\n",
    "    #x = fully_conn(x, 50)\n",
    "    #x = tf.nn.dropout(x, keep_prob)\n",
    "    \n",
    "    \n",
    "    # TODO: Apply an Output Layer\n",
    "    #    Set this to the number of classes\n",
    "    # Function Definition from Above:\n",
    "    #   output(x_tensor, num_outputs)\n",
    "    out = output(x, 10)\n",
    "    \n",
    "    # TODO: return output\n",
    "    return out\n",
    "\n",
    "\n",
    "\"\"\"\n",
    "DON'T MODIFY ANYTHING IN THIS CELL THAT IS BELOW THIS LINE\n",
    "\"\"\"\n",
    "\n",
    "##############################\n",
    "## Build the Neural Network ##\n",
    "##############################\n",
    "\n",
    "# Remove previous weights, bias, inputs, etc..\n",
    "tf.reset_default_graph()\n",
    "\n",
    "# Inputs\n",
    "x = neural_net_image_input((32, 32, 3))\n",
    "y = neural_net_label_input(10)\n",
    "keep_prob = neural_net_keep_prob_input()\n",
    "\n",
    "# Model\n",
    "logits = conv_net(x, keep_prob)\n",
    "\n",
    "# Name logits Tensor, so that is can be loaded from disk after training\n",
    "logits = tf.identity(logits, name='logits')\n",
    "\n",
    "# Loss and Optimizer\n",
    "cost = tf.reduce_mean(tf.nn.softmax_cross_entropy_with_logits(logits=logits, labels=y))\n",
    "optimizer = tf.train.AdamOptimizer().minimize(cost)\n",
    "\n",
    "# Accuracy\n",
    "correct_pred = tf.equal(tf.argmax(logits, 1), tf.argmax(y, 1))\n",
    "accuracy = tf.reduce_mean(tf.cast(correct_pred, tf.float32), name='accuracy')\n",
    "\n",
    "tests.test_conv_net(conv_net)"
   ]
  },
  {
   "cell_type": "markdown",
   "metadata": {},
   "source": [
    "## Train the Neural Network\n",
    "### Single Optimization\n",
    "Implement the function `train_neural_network` to do a single optimization.  The optimization should use `optimizer` to optimize in `session` with a `feed_dict` of the following:\n",
    "* `x` for image input\n",
    "* `y` for labels\n",
    "* `keep_prob` for keep probability for dropout\n",
    "\n",
    "This function will be called for each batch, so `tf.global_variables_initializer()` has already been called.\n",
    "\n",
    "Note: Nothing needs to be returned. This function is only optimizing the neural network."
   ]
  },
  {
   "cell_type": "code",
   "execution_count": 95,
   "metadata": {},
   "outputs": [
    {
     "name": "stdout",
     "output_type": "stream",
     "text": [
      "Tests Passed\n"
     ]
    }
   ],
   "source": [
    "def train_neural_network(session, optimizer, keep_probability, feature_batch, label_batch):\n",
    "    \"\"\"\n",
    "    Optimize the session on a batch of images and labels\n",
    "    : session: Current TensorFlow session\n",
    "    : optimizer: TensorFlow optimizer function\n",
    "    : keep_probability: keep probability\n",
    "    : feature_batch: Batch of Numpy image data\n",
    "    : label_batch: Batch of Numpy label data\n",
    "    \"\"\"\n",
    "    # TODO: Implement Function\n",
    "    session.run(optimizer,feed_dict={x:feature_batch,y:label_batch, keep_prob:keep_probability})\n",
    "\n",
    "\n",
    "\"\"\"\n",
    "DON'T MODIFY ANYTHING IN THIS CELL THAT IS BELOW THIS LINE\n",
    "\"\"\"\n",
    "tests.test_train_nn(train_neural_network)"
   ]
  },
  {
   "cell_type": "markdown",
   "metadata": {},
   "source": [
    "### Show Stats\n",
    "Implement the function `print_stats` to print loss and validation accuracy.  Use the global variables `valid_features` and `valid_labels` to calculate validation accuracy.  Use a keep probability of `1.0` to calculate the loss and validation accuracy."
   ]
  },
  {
   "cell_type": "code",
   "execution_count": 96,
   "metadata": {
    "collapsed": true
   },
   "outputs": [],
   "source": [
    "def print_stats(session, feature_batch, label_batch, cost, accuracy):\n",
    "    \"\"\"\n",
    "    Print information about loss and validation accuracy\n",
    "    : session: Current TensorFlow session\n",
    "    : feature_batch: Batch of Numpy image data\n",
    "    : label_batch: Batch of Numpy label data\n",
    "    : cost: TensorFlow cost function\n",
    "    : accuracy: TensorFlow accuracy function\n",
    "    \"\"\"\n",
    "    # TODO: Implement Function\n",
    "    loss = session.run(cost,feed_dict     = {x:feature_batch,y:label_batch,keep_prob:1.0} )\n",
    "    validation_accuracy = session.run(accuracy,feed_dict = {x: valid_features,y:valid_labels,keep_prob:1.0})\n",
    "    \n",
    "    print('>Loss = ',loss,'| >validation accuracy = ',validation_accuracy)\n",
    "          "
   ]
  },
  {
   "cell_type": "markdown",
   "metadata": {},
   "source": [
    "### Hyperparameters\n",
    "Tune the following parameters:\n",
    "* Set `epochs` to the number of iterations until the network stops learning or start overfitting\n",
    "* Set `batch_size` to the highest number that your machine has memory for.  Most people set them to common sizes of memory:\n",
    " * 64\n",
    " * 128\n",
    " * 256\n",
    " * ...\n",
    "* Set `keep_probability` to the probability of keeping a node using dropout"
   ]
  },
  {
   "cell_type": "code",
   "execution_count": 97,
   "metadata": {
    "collapsed": true
   },
   "outputs": [],
   "source": [
    "# TODO: Tune Parameters\n",
    "epochs = 50\n",
    "batch_size = 256\n",
    "keep_probability = 0.8"
   ]
  },
  {
   "cell_type": "markdown",
   "metadata": {},
   "source": [
    "### Train on a Single CIFAR-10 Batch\n",
    "Instead of training the neural network on all the CIFAR-10 batches of data, let's use a single batch. This should save time while you iterate on the model to get a better accuracy.  Once the final validation accuracy is 50% or greater, run the model on all the data in the next section."
   ]
  },
  {
   "cell_type": "code",
   "execution_count": 98,
   "metadata": {},
   "outputs": [
    {
     "name": "stdout",
     "output_type": "stream",
     "text": [
      "Checking the Training on a Single Batch...\n",
      "Epoch  1, CIFAR-10 Batch 1:  >Loss =  2.18971 | >validation accuracy =  0.1884\n",
      "Epoch  2, CIFAR-10 Batch 1:  >Loss =  2.16577 | >validation accuracy =  0.257\n",
      "Epoch  3, CIFAR-10 Batch 1:  >Loss =  2.22632 | >validation accuracy =  0.2678\n",
      "Epoch  4, CIFAR-10 Batch 1:  >Loss =  2.14697 | >validation accuracy =  0.318\n",
      "Epoch  5, CIFAR-10 Batch 1:  >Loss =  2.00948 | >validation accuracy =  0.3538\n",
      "Epoch  6, CIFAR-10 Batch 1:  >Loss =  1.92169 | >validation accuracy =  0.3624\n",
      "Epoch  7, CIFAR-10 Batch 1:  >Loss =  1.8596 | >validation accuracy =  0.383\n",
      "Epoch  8, CIFAR-10 Batch 1:  >Loss =  1.78132 | >validation accuracy =  0.3936\n",
      "Epoch  9, CIFAR-10 Batch 1:  >Loss =  1.69927 | >validation accuracy =  0.4058\n",
      "Epoch 10, CIFAR-10 Batch 1:  >Loss =  1.61717 | >validation accuracy =  0.4156\n",
      "Epoch 11, CIFAR-10 Batch 1:  >Loss =  1.53467 | >validation accuracy =  0.4264\n",
      "Epoch 12, CIFAR-10 Batch 1:  >Loss =  1.44499 | >validation accuracy =  0.427\n",
      "Epoch 13, CIFAR-10 Batch 1:  >Loss =  1.40677 | >validation accuracy =  0.441\n",
      "Epoch 14, CIFAR-10 Batch 1:  >Loss =  1.33512 | >validation accuracy =  0.4398\n",
      "Epoch 15, CIFAR-10 Batch 1:  >Loss =  1.2633 | >validation accuracy =  0.4446\n",
      "Epoch 16, CIFAR-10 Batch 1:  >Loss =  1.20942 | >validation accuracy =  0.4526\n",
      "Epoch 17, CIFAR-10 Batch 1:  >Loss =  1.15091 | >validation accuracy =  0.4548\n",
      "Epoch 18, CIFAR-10 Batch 1:  >Loss =  1.13122 | >validation accuracy =  0.4546\n",
      "Epoch 19, CIFAR-10 Batch 1:  >Loss =  1.12294 | >validation accuracy =  0.4546\n",
      "Epoch 20, CIFAR-10 Batch 1:  >Loss =  1.04399 | >validation accuracy =  0.4642\n",
      "Epoch 21, CIFAR-10 Batch 1:  >Loss =  1.01051 | >validation accuracy =  0.4672\n",
      "Epoch 22, CIFAR-10 Batch 1:  >Loss =  0.95562 | >validation accuracy =  0.4808\n",
      "Epoch 23, CIFAR-10 Batch 1:  >Loss =  0.904935 | >validation accuracy =  0.486\n",
      "Epoch 24, CIFAR-10 Batch 1:  >Loss =  0.869907 | >validation accuracy =  0.494\n",
      "Epoch 25, CIFAR-10 Batch 1:  >Loss =  0.830569 | >validation accuracy =  0.4944\n",
      "Epoch 26, CIFAR-10 Batch 1:  >Loss =  0.830913 | >validation accuracy =  0.4996\n",
      "Epoch 27, CIFAR-10 Batch 1:  >Loss =  0.781796 | >validation accuracy =  0.505\n",
      "Epoch 28, CIFAR-10 Batch 1:  >Loss =  0.764048 | >validation accuracy =  0.5068\n",
      "Epoch 29, CIFAR-10 Batch 1:  >Loss =  0.736987 | >validation accuracy =  0.504\n",
      "Epoch 30, CIFAR-10 Batch 1:  >Loss =  0.707422 | >validation accuracy =  0.508\n",
      "Epoch 31, CIFAR-10 Batch 1:  >Loss =  0.665348 | >validation accuracy =  0.5082\n",
      "Epoch 32, CIFAR-10 Batch 1:  >Loss =  0.652795 | >validation accuracy =  0.5038\n",
      "Epoch 33, CIFAR-10 Batch 1:  >Loss =  0.619725 | >validation accuracy =  0.5132\n",
      "Epoch 34, CIFAR-10 Batch 1:  >Loss =  0.600479 | >validation accuracy =  0.5198\n",
      "Epoch 35, CIFAR-10 Batch 1:  >Loss =  0.567765 | >validation accuracy =  0.5192\n",
      "Epoch 36, CIFAR-10 Batch 1:  >Loss =  0.544794 | >validation accuracy =  0.5198\n",
      "Epoch 37, CIFAR-10 Batch 1:  >Loss =  0.556688 | >validation accuracy =  0.5214\n",
      "Epoch 38, CIFAR-10 Batch 1:  >Loss =  0.500665 | >validation accuracy =  0.5288\n",
      "Epoch 39, CIFAR-10 Batch 1:  >Loss =  0.511092 | >validation accuracy =  0.5214\n",
      "Epoch 40, CIFAR-10 Batch 1:  >Loss =  0.475313 | >validation accuracy =  0.5344\n",
      "Epoch 41, CIFAR-10 Batch 1:  >Loss =  0.466006 | >validation accuracy =  0.5364\n",
      "Epoch 42, CIFAR-10 Batch 1:  >Loss =  0.472461 | >validation accuracy =  0.5218\n",
      "Epoch 43, CIFAR-10 Batch 1:  >Loss =  0.449355 | >validation accuracy =  0.521\n",
      "Epoch 44, CIFAR-10 Batch 1:  >Loss =  0.425079 | >validation accuracy =  0.524\n",
      "Epoch 45, CIFAR-10 Batch 1:  >Loss =  0.39826 | >validation accuracy =  0.523\n",
      "Epoch 46, CIFAR-10 Batch 1:  >Loss =  0.379238 | >validation accuracy =  0.53\n",
      "Epoch 47, CIFAR-10 Batch 1:  >Loss =  0.365602 | >validation accuracy =  0.529\n",
      "Epoch 48, CIFAR-10 Batch 1:  >Loss =  0.364585 | >validation accuracy =  0.5262\n",
      "Epoch 49, CIFAR-10 Batch 1:  >Loss =  0.325308 | >validation accuracy =  0.5324\n",
      "Epoch 50, CIFAR-10 Batch 1:  >Loss =  0.318463 | >validation accuracy =  0.5322\n"
     ]
    }
   ],
   "source": [
    "\"\"\"\n",
    "DON'T MODIFY ANYTHING IN THIS CELL\n",
    "\"\"\"\n",
    "print('Checking the Training on a Single Batch...')\n",
    "with tf.Session() as sess:\n",
    "    # Initializing the variables\n",
    "    sess.run(tf.global_variables_initializer())\n",
    "    \n",
    "    # Training cycle\n",
    "    for epoch in range(epochs):\n",
    "        batch_i = 1\n",
    "        for batch_features, batch_labels in helper.load_preprocess_training_batch(batch_i, batch_size):\n",
    "            train_neural_network(sess, optimizer, keep_probability, batch_features, batch_labels)\n",
    "        print('Epoch {:>2}, CIFAR-10 Batch {}:  '.format(epoch + 1, batch_i), end='')\n",
    "        print_stats(sess, batch_features, batch_labels, cost, accuracy)"
   ]
  },
  {
   "cell_type": "markdown",
   "metadata": {},
   "source": [
    "### Fully Train the Model\n",
    "Now that you got a good accuracy with a single CIFAR-10 batch, try it with all five batches."
   ]
  },
  {
   "cell_type": "code",
   "execution_count": 99,
   "metadata": {},
   "outputs": [
    {
     "name": "stdout",
     "output_type": "stream",
     "text": [
      "Training...\n",
      "Epoch  1, CIFAR-10 Batch 1:  >Loss =  2.19529 | >validation accuracy =  0.1948\n",
      "Epoch  1, CIFAR-10 Batch 2:  >Loss =  2.07195 | >validation accuracy =  0.262\n",
      "Epoch  1, CIFAR-10 Batch 3:  >Loss =  1.77623 | >validation accuracy =  0.2844\n",
      "Epoch  1, CIFAR-10 Batch 4:  >Loss =  1.74443 | >validation accuracy =  0.3258\n",
      "Epoch  1, CIFAR-10 Batch 5:  >Loss =  1.81224 | >validation accuracy =  0.3538\n",
      "Epoch  2, CIFAR-10 Batch 1:  >Loss =  1.92945 | >validation accuracy =  0.367\n",
      "Epoch  2, CIFAR-10 Batch 2:  >Loss =  1.7875 | >validation accuracy =  0.3886\n",
      "Epoch  2, CIFAR-10 Batch 3:  >Loss =  1.48662 | >validation accuracy =  0.3842\n",
      "Epoch  2, CIFAR-10 Batch 4:  >Loss =  1.64526 | >validation accuracy =  0.426\n",
      "Epoch  2, CIFAR-10 Batch 5:  >Loss =  1.63577 | >validation accuracy =  0.4182\n",
      "Epoch  3, CIFAR-10 Batch 1:  >Loss =  1.80266 | >validation accuracy =  0.4396\n",
      "Epoch  3, CIFAR-10 Batch 2:  >Loss =  1.50832 | >validation accuracy =  0.4406\n",
      "Epoch  3, CIFAR-10 Batch 3:  >Loss =  1.24006 | >validation accuracy =  0.447\n",
      "Epoch  3, CIFAR-10 Batch 4:  >Loss =  1.52954 | >validation accuracy =  0.4594\n",
      "Epoch  3, CIFAR-10 Batch 5:  >Loss =  1.50385 | >validation accuracy =  0.4596\n",
      "Epoch  4, CIFAR-10 Batch 1:  >Loss =  1.70287 | >validation accuracy =  0.4662\n",
      "Epoch  4, CIFAR-10 Batch 2:  >Loss =  1.36275 | >validation accuracy =  0.4564\n",
      "Epoch  4, CIFAR-10 Batch 3:  >Loss =  1.17386 | >validation accuracy =  0.477\n",
      "Epoch  4, CIFAR-10 Batch 4:  >Loss =  1.42458 | >validation accuracy =  0.4866\n",
      "Epoch  4, CIFAR-10 Batch 5:  >Loss =  1.3586 | >validation accuracy =  0.4952\n",
      "Epoch  5, CIFAR-10 Batch 1:  >Loss =  1.55695 | >validation accuracy =  0.4918\n",
      "Epoch  5, CIFAR-10 Batch 2:  >Loss =  1.30179 | >validation accuracy =  0.488\n",
      "Epoch  5, CIFAR-10 Batch 3:  >Loss =  1.11185 | >validation accuracy =  0.4924\n",
      "Epoch  5, CIFAR-10 Batch 4:  >Loss =  1.33786 | >validation accuracy =  0.5066\n",
      "Epoch  5, CIFAR-10 Batch 5:  >Loss =  1.26037 | >validation accuracy =  0.5148\n",
      "Epoch  6, CIFAR-10 Batch 1:  >Loss =  1.44549 | >validation accuracy =  0.5176\n",
      "Epoch  6, CIFAR-10 Batch 2:  >Loss =  1.22963 | >validation accuracy =  0.5056\n",
      "Epoch  6, CIFAR-10 Batch 3:  >Loss =  1.02936 | >validation accuracy =  0.5176\n",
      "Epoch  6, CIFAR-10 Batch 4:  >Loss =  1.26121 | >validation accuracy =  0.5272\n",
      "Epoch  6, CIFAR-10 Batch 5:  >Loss =  1.18394 | >validation accuracy =  0.5256\n",
      "Epoch  7, CIFAR-10 Batch 1:  >Loss =  1.32617 | >validation accuracy =  0.5332\n",
      "Epoch  7, CIFAR-10 Batch 2:  >Loss =  1.17955 | >validation accuracy =  0.5316\n",
      "Epoch  7, CIFAR-10 Batch 3:  >Loss =  0.970862 | >validation accuracy =  0.536\n",
      "Epoch  7, CIFAR-10 Batch 4:  >Loss =  1.18713 | >validation accuracy =  0.5382\n",
      "Epoch  7, CIFAR-10 Batch 5:  >Loss =  1.10457 | >validation accuracy =  0.5368\n",
      "Epoch  8, CIFAR-10 Batch 1:  >Loss =  1.21328 | >validation accuracy =  0.5402\n",
      "Epoch  8, CIFAR-10 Batch 2:  >Loss =  1.09761 | >validation accuracy =  0.53\n",
      "Epoch  8, CIFAR-10 Batch 3:  >Loss =  0.925074 | >validation accuracy =  0.5404\n",
      "Epoch  8, CIFAR-10 Batch 4:  >Loss =  1.14966 | >validation accuracy =  0.5468\n",
      "Epoch  8, CIFAR-10 Batch 5:  >Loss =  1.02442 | >validation accuracy =  0.5484\n",
      "Epoch  9, CIFAR-10 Batch 1:  >Loss =  1.14418 | >validation accuracy =  0.5492\n",
      "Epoch  9, CIFAR-10 Batch 2:  >Loss =  1.04178 | >validation accuracy =  0.5472\n",
      "Epoch  9, CIFAR-10 Batch 3:  >Loss =  0.912383 | >validation accuracy =  0.5452\n",
      "Epoch  9, CIFAR-10 Batch 4:  >Loss =  1.08966 | >validation accuracy =  0.556\n",
      "Epoch  9, CIFAR-10 Batch 5:  >Loss =  0.975194 | >validation accuracy =  0.5496\n",
      "Epoch 10, CIFAR-10 Batch 1:  >Loss =  1.05934 | >validation accuracy =  0.558\n",
      "Epoch 10, CIFAR-10 Batch 2:  >Loss =  0.97669 | >validation accuracy =  0.553\n",
      "Epoch 10, CIFAR-10 Batch 3:  >Loss =  0.869913 | >validation accuracy =  0.557\n",
      "Epoch 10, CIFAR-10 Batch 4:  >Loss =  1.01908 | >validation accuracy =  0.5616\n",
      "Epoch 10, CIFAR-10 Batch 5:  >Loss =  0.910707 | >validation accuracy =  0.5632\n",
      "Epoch 11, CIFAR-10 Batch 1:  >Loss =  0.987235 | >validation accuracy =  0.569\n",
      "Epoch 11, CIFAR-10 Batch 2:  >Loss =  0.915304 | >validation accuracy =  0.5612\n",
      "Epoch 11, CIFAR-10 Batch 3:  >Loss =  0.835223 | >validation accuracy =  0.5642\n",
      "Epoch 11, CIFAR-10 Batch 4:  >Loss =  0.964329 | >validation accuracy =  0.569\n",
      "Epoch 11, CIFAR-10 Batch 5:  >Loss =  0.844652 | >validation accuracy =  0.561\n",
      "Epoch 12, CIFAR-10 Batch 1:  >Loss =  0.913568 | >validation accuracy =  0.5734\n",
      "Epoch 12, CIFAR-10 Batch 2:  >Loss =  0.866992 | >validation accuracy =  0.5678\n",
      "Epoch 12, CIFAR-10 Batch 3:  >Loss =  0.782812 | >validation accuracy =  0.5758\n",
      "Epoch 12, CIFAR-10 Batch 4:  >Loss =  0.916699 | >validation accuracy =  0.5746\n",
      "Epoch 12, CIFAR-10 Batch 5:  >Loss =  0.773336 | >validation accuracy =  0.575\n",
      "Epoch 13, CIFAR-10 Batch 1:  >Loss =  0.880248 | >validation accuracy =  0.5812\n",
      "Epoch 13, CIFAR-10 Batch 2:  >Loss =  0.813776 | >validation accuracy =  0.5746\n",
      "Epoch 13, CIFAR-10 Batch 3:  >Loss =  0.73488 | >validation accuracy =  0.583\n",
      "Epoch 13, CIFAR-10 Batch 4:  >Loss =  0.837338 | >validation accuracy =  0.5886\n",
      "Epoch 13, CIFAR-10 Batch 5:  >Loss =  0.719548 | >validation accuracy =  0.577\n",
      "Epoch 14, CIFAR-10 Batch 1:  >Loss =  0.825475 | >validation accuracy =  0.5872\n",
      "Epoch 14, CIFAR-10 Batch 2:  >Loss =  0.733328 | >validation accuracy =  0.5822\n",
      "Epoch 14, CIFAR-10 Batch 3:  >Loss =  0.693915 | >validation accuracy =  0.5858\n",
      "Epoch 14, CIFAR-10 Batch 4:  >Loss =  0.772799 | >validation accuracy =  0.5844\n",
      "Epoch 14, CIFAR-10 Batch 5:  >Loss =  0.649413 | >validation accuracy =  0.5822\n",
      "Epoch 15, CIFAR-10 Batch 1:  >Loss =  0.787155 | >validation accuracy =  0.5886\n",
      "Epoch 15, CIFAR-10 Batch 2:  >Loss =  0.685212 | >validation accuracy =  0.589\n",
      "Epoch 15, CIFAR-10 Batch 3:  >Loss =  0.624574 | >validation accuracy =  0.591\n",
      "Epoch 15, CIFAR-10 Batch 4:  >Loss =  0.761783 | >validation accuracy =  0.5916\n",
      "Epoch 15, CIFAR-10 Batch 5:  >Loss =  0.611968 | >validation accuracy =  0.5898\n",
      "Epoch 16, CIFAR-10 Batch 1:  >Loss =  0.717192 | >validation accuracy =  0.5996\n",
      "Epoch 16, CIFAR-10 Batch 2:  >Loss =  0.634862 | >validation accuracy =  0.5952\n",
      "Epoch 16, CIFAR-10 Batch 3:  >Loss =  0.564534 | >validation accuracy =  0.5962\n",
      "Epoch 16, CIFAR-10 Batch 4:  >Loss =  0.681493 | >validation accuracy =  0.5958\n",
      "Epoch 16, CIFAR-10 Batch 5:  >Loss =  0.594234 | >validation accuracy =  0.5886\n",
      "Epoch 17, CIFAR-10 Batch 1:  >Loss =  0.68899 | >validation accuracy =  0.6026\n",
      "Epoch 17, CIFAR-10 Batch 2:  >Loss =  0.58668 | >validation accuracy =  0.5978\n",
      "Epoch 17, CIFAR-10 Batch 3:  >Loss =  0.523281 | >validation accuracy =  0.5994\n",
      "Epoch 17, CIFAR-10 Batch 4:  >Loss =  0.615816 | >validation accuracy =  0.6008\n",
      "Epoch 17, CIFAR-10 Batch 5:  >Loss =  0.540027 | >validation accuracy =  0.5904\n",
      "Epoch 18, CIFAR-10 Batch 1:  >Loss =  0.659784 | >validation accuracy =  0.6012\n",
      "Epoch 18, CIFAR-10 Batch 2:  >Loss =  0.597295 | >validation accuracy =  0.5972\n",
      "Epoch 18, CIFAR-10 Batch 3:  >Loss =  0.481202 | >validation accuracy =  0.6064\n",
      "Epoch 18, CIFAR-10 Batch 4:  >Loss =  0.597085 | >validation accuracy =  0.6046\n",
      "Epoch 18, CIFAR-10 Batch 5:  >Loss =  0.512466 | >validation accuracy =  0.5902\n",
      "Epoch 19, CIFAR-10 Batch 1:  >Loss =  0.635994 | >validation accuracy =  0.6028\n",
      "Epoch 19, CIFAR-10 Batch 2:  >Loss =  0.552827 | >validation accuracy =  0.6102\n",
      "Epoch 19, CIFAR-10 Batch 3:  >Loss =  0.462174 | >validation accuracy =  0.6048\n",
      "Epoch 19, CIFAR-10 Batch 4:  >Loss =  0.542491 | >validation accuracy =  0.6058\n",
      "Epoch 19, CIFAR-10 Batch 5:  >Loss =  0.504186 | >validation accuracy =  0.6006\n",
      "Epoch 20, CIFAR-10 Batch 1:  >Loss =  0.603062 | >validation accuracy =  0.6082\n",
      "Epoch 20, CIFAR-10 Batch 2:  >Loss =  0.536865 | >validation accuracy =  0.6092\n",
      "Epoch 20, CIFAR-10 Batch 3:  >Loss =  0.451183 | >validation accuracy =  0.6084\n",
      "Epoch 20, CIFAR-10 Batch 4:  >Loss =  0.516933 | >validation accuracy =  0.6132\n",
      "Epoch 20, CIFAR-10 Batch 5:  >Loss =  0.481892 | >validation accuracy =  0.601\n",
      "Epoch 21, CIFAR-10 Batch 1:  >Loss =  0.56969 | >validation accuracy =  0.6138\n",
      "Epoch 21, CIFAR-10 Batch 2:  >Loss =  0.534373 | >validation accuracy =  0.6068\n",
      "Epoch 21, CIFAR-10 Batch 3:  >Loss =  0.415438 | >validation accuracy =  0.612\n"
     ]
    },
    {
     "name": "stdout",
     "output_type": "stream",
     "text": [
      "Epoch 21, CIFAR-10 Batch 4:  >Loss =  0.467328 | >validation accuracy =  0.6156\n",
      "Epoch 21, CIFAR-10 Batch 5:  >Loss =  0.450771 | >validation accuracy =  0.6052\n",
      "Epoch 22, CIFAR-10 Batch 1:  >Loss =  0.531989 | >validation accuracy =  0.6162\n",
      "Epoch 22, CIFAR-10 Batch 2:  >Loss =  0.482863 | >validation accuracy =  0.6174\n",
      "Epoch 22, CIFAR-10 Batch 3:  >Loss =  0.40271 | >validation accuracy =  0.6128\n",
      "Epoch 22, CIFAR-10 Batch 4:  >Loss =  0.452031 | >validation accuracy =  0.6158\n",
      "Epoch 22, CIFAR-10 Batch 5:  >Loss =  0.420282 | >validation accuracy =  0.6156\n",
      "Epoch 23, CIFAR-10 Batch 1:  >Loss =  0.5137 | >validation accuracy =  0.6172\n",
      "Epoch 23, CIFAR-10 Batch 2:  >Loss =  0.478263 | >validation accuracy =  0.6136\n",
      "Epoch 23, CIFAR-10 Batch 3:  >Loss =  0.386834 | >validation accuracy =  0.6156\n",
      "Epoch 23, CIFAR-10 Batch 4:  >Loss =  0.435307 | >validation accuracy =  0.6188\n",
      "Epoch 23, CIFAR-10 Batch 5:  >Loss =  0.398462 | >validation accuracy =  0.6168\n",
      "Epoch 24, CIFAR-10 Batch 1:  >Loss =  0.488981 | >validation accuracy =  0.6176\n",
      "Epoch 24, CIFAR-10 Batch 2:  >Loss =  0.458087 | >validation accuracy =  0.62\n",
      "Epoch 24, CIFAR-10 Batch 3:  >Loss =  0.371253 | >validation accuracy =  0.6162\n",
      "Epoch 24, CIFAR-10 Batch 4:  >Loss =  0.380866 | >validation accuracy =  0.6206\n",
      "Epoch 24, CIFAR-10 Batch 5:  >Loss =  0.388434 | >validation accuracy =  0.6164\n",
      "Epoch 25, CIFAR-10 Batch 1:  >Loss =  0.486966 | >validation accuracy =  0.6214\n",
      "Epoch 25, CIFAR-10 Batch 2:  >Loss =  0.456632 | >validation accuracy =  0.6082\n",
      "Epoch 25, CIFAR-10 Batch 3:  >Loss =  0.342881 | >validation accuracy =  0.6188\n",
      "Epoch 25, CIFAR-10 Batch 4:  >Loss =  0.389743 | >validation accuracy =  0.6194\n",
      "Epoch 25, CIFAR-10 Batch 5:  >Loss =  0.381056 | >validation accuracy =  0.6144\n",
      "Epoch 26, CIFAR-10 Batch 1:  >Loss =  0.46425 | >validation accuracy =  0.6228\n",
      "Epoch 26, CIFAR-10 Batch 2:  >Loss =  0.443473 | >validation accuracy =  0.6044\n",
      "Epoch 26, CIFAR-10 Batch 3:  >Loss =  0.334908 | >validation accuracy =  0.6174\n",
      "Epoch 26, CIFAR-10 Batch 4:  >Loss =  0.37091 | >validation accuracy =  0.6244\n",
      "Epoch 26, CIFAR-10 Batch 5:  >Loss =  0.345999 | >validation accuracy =  0.6276\n",
      "Epoch 27, CIFAR-10 Batch 1:  >Loss =  0.478734 | >validation accuracy =  0.6198\n",
      "Epoch 27, CIFAR-10 Batch 2:  >Loss =  0.407448 | >validation accuracy =  0.6182\n",
      "Epoch 27, CIFAR-10 Batch 3:  >Loss =  0.333866 | >validation accuracy =  0.6094\n",
      "Epoch 27, CIFAR-10 Batch 4:  >Loss =  0.341955 | >validation accuracy =  0.6208\n",
      "Epoch 27, CIFAR-10 Batch 5:  >Loss =  0.337475 | >validation accuracy =  0.6234\n",
      "Epoch 28, CIFAR-10 Batch 1:  >Loss =  0.431137 | >validation accuracy =  0.6296\n",
      "Epoch 28, CIFAR-10 Batch 2:  >Loss =  0.375301 | >validation accuracy =  0.623\n",
      "Epoch 28, CIFAR-10 Batch 3:  >Loss =  0.3019 | >validation accuracy =  0.611\n",
      "Epoch 28, CIFAR-10 Batch 4:  >Loss =  0.329605 | >validation accuracy =  0.6116\n",
      "Epoch 28, CIFAR-10 Batch 5:  >Loss =  0.323299 | >validation accuracy =  0.6268\n",
      "Epoch 29, CIFAR-10 Batch 1:  >Loss =  0.427811 | >validation accuracy =  0.6258\n",
      "Epoch 29, CIFAR-10 Batch 2:  >Loss =  0.37764 | >validation accuracy =  0.6272\n",
      "Epoch 29, CIFAR-10 Batch 3:  >Loss =  0.321717 | >validation accuracy =  0.6116\n",
      "Epoch 29, CIFAR-10 Batch 4:  >Loss =  0.322672 | >validation accuracy =  0.6142\n",
      "Epoch 29, CIFAR-10 Batch 5:  >Loss =  0.300536 | >validation accuracy =  0.6278\n",
      "Epoch 30, CIFAR-10 Batch 1:  >Loss =  0.425129 | >validation accuracy =  0.6254\n",
      "Epoch 30, CIFAR-10 Batch 2:  >Loss =  0.3632 | >validation accuracy =  0.6362\n",
      "Epoch 30, CIFAR-10 Batch 3:  >Loss =  0.328802 | >validation accuracy =  0.599\n",
      "Epoch 30, CIFAR-10 Batch 4:  >Loss =  0.30273 | >validation accuracy =  0.6226\n",
      "Epoch 30, CIFAR-10 Batch 5:  >Loss =  0.30353 | >validation accuracy =  0.6264\n",
      "Epoch 31, CIFAR-10 Batch 1:  >Loss =  0.428528 | >validation accuracy =  0.622\n",
      "Epoch 31, CIFAR-10 Batch 2:  >Loss =  0.341016 | >validation accuracy =  0.6308\n",
      "Epoch 31, CIFAR-10 Batch 3:  >Loss =  0.338556 | >validation accuracy =  0.5988\n",
      "Epoch 31, CIFAR-10 Batch 4:  >Loss =  0.297697 | >validation accuracy =  0.6198\n",
      "Epoch 31, CIFAR-10 Batch 5:  >Loss =  0.310287 | >validation accuracy =  0.6256\n",
      "Epoch 32, CIFAR-10 Batch 1:  >Loss =  0.41085 | >validation accuracy =  0.626\n",
      "Epoch 32, CIFAR-10 Batch 2:  >Loss =  0.356578 | >validation accuracy =  0.6216\n",
      "Epoch 32, CIFAR-10 Batch 3:  >Loss =  0.299188 | >validation accuracy =  0.6114\n",
      "Epoch 32, CIFAR-10 Batch 4:  >Loss =  0.289851 | >validation accuracy =  0.62\n",
      "Epoch 32, CIFAR-10 Batch 5:  >Loss =  0.288051 | >validation accuracy =  0.628\n",
      "Epoch 33, CIFAR-10 Batch 1:  >Loss =  0.392072 | >validation accuracy =  0.6318\n",
      "Epoch 33, CIFAR-10 Batch 2:  >Loss =  0.341466 | >validation accuracy =  0.6174\n",
      "Epoch 33, CIFAR-10 Batch 3:  >Loss =  0.267477 | >validation accuracy =  0.6138\n",
      "Epoch 33, CIFAR-10 Batch 4:  >Loss =  0.270066 | >validation accuracy =  0.6244\n",
      "Epoch 33, CIFAR-10 Batch 5:  >Loss =  0.273375 | >validation accuracy =  0.6348\n",
      "Epoch 34, CIFAR-10 Batch 1:  >Loss =  0.389121 | >validation accuracy =  0.6282\n",
      "Epoch 34, CIFAR-10 Batch 2:  >Loss =  0.334172 | >validation accuracy =  0.6192\n",
      "Epoch 34, CIFAR-10 Batch 3:  >Loss =  0.256096 | >validation accuracy =  0.6216\n",
      "Epoch 34, CIFAR-10 Batch 4:  >Loss =  0.264066 | >validation accuracy =  0.6286\n",
      "Epoch 34, CIFAR-10 Batch 5:  >Loss =  0.258552 | >validation accuracy =  0.6308\n",
      "Epoch 35, CIFAR-10 Batch 1:  >Loss =  0.367656 | >validation accuracy =  0.627\n",
      "Epoch 35, CIFAR-10 Batch 2:  >Loss =  0.334725 | >validation accuracy =  0.6254\n",
      "Epoch 35, CIFAR-10 Batch 3:  >Loss =  0.238905 | >validation accuracy =  0.6298\n",
      "Epoch 35, CIFAR-10 Batch 4:  >Loss =  0.262594 | >validation accuracy =  0.6298\n",
      "Epoch 35, CIFAR-10 Batch 5:  >Loss =  0.257882 | >validation accuracy =  0.6344\n",
      "Epoch 36, CIFAR-10 Batch 1:  >Loss =  0.381801 | >validation accuracy =  0.6212\n",
      "Epoch 36, CIFAR-10 Batch 2:  >Loss =  0.285994 | >validation accuracy =  0.631\n",
      "Epoch 36, CIFAR-10 Batch 3:  >Loss =  0.244099 | >validation accuracy =  0.6272\n",
      "Epoch 36, CIFAR-10 Batch 4:  >Loss =  0.239904 | >validation accuracy =  0.634\n",
      "Epoch 36, CIFAR-10 Batch 5:  >Loss =  0.26026 | >validation accuracy =  0.6304\n",
      "Epoch 37, CIFAR-10 Batch 1:  >Loss =  0.371577 | >validation accuracy =  0.626\n",
      "Epoch 37, CIFAR-10 Batch 2:  >Loss =  0.302763 | >validation accuracy =  0.6268\n",
      "Epoch 37, CIFAR-10 Batch 3:  >Loss =  0.231113 | >validation accuracy =  0.6222\n",
      "Epoch 37, CIFAR-10 Batch 4:  >Loss =  0.234434 | >validation accuracy =  0.6272\n",
      "Epoch 37, CIFAR-10 Batch 5:  >Loss =  0.240243 | >validation accuracy =  0.6308\n",
      "Epoch 38, CIFAR-10 Batch 1:  >Loss =  0.330972 | >validation accuracy =  0.6324\n",
      "Epoch 38, CIFAR-10 Batch 2:  >Loss =  0.308501 | >validation accuracy =  0.6326\n",
      "Epoch 38, CIFAR-10 Batch 3:  >Loss =  0.227633 | >validation accuracy =  0.628\n",
      "Epoch 38, CIFAR-10 Batch 4:  >Loss =  0.214764 | >validation accuracy =  0.6256\n",
      "Epoch 38, CIFAR-10 Batch 5:  >Loss =  0.216337 | >validation accuracy =  0.6292\n",
      "Epoch 39, CIFAR-10 Batch 1:  >Loss =  0.342044 | >validation accuracy =  0.6334\n",
      "Epoch 39, CIFAR-10 Batch 2:  >Loss =  0.278816 | >validation accuracy =  0.6326\n",
      "Epoch 39, CIFAR-10 Batch 3:  >Loss =  0.220218 | >validation accuracy =  0.6244\n",
      "Epoch 39, CIFAR-10 Batch 4:  >Loss =  0.210993 | >validation accuracy =  0.625\n",
      "Epoch 39, CIFAR-10 Batch 5:  >Loss =  0.209315 | >validation accuracy =  0.6296\n",
      "Epoch 40, CIFAR-10 Batch 1:  >Loss =  0.314335 | >validation accuracy =  0.6256\n",
      "Epoch 40, CIFAR-10 Batch 2:  >Loss =  0.270228 | >validation accuracy =  0.63\n",
      "Epoch 40, CIFAR-10 Batch 3:  >Loss =  0.20878 | >validation accuracy =  0.6306\n",
      "Epoch 40, CIFAR-10 Batch 4:  >Loss =  0.213948 | >validation accuracy =  0.62\n",
      "Epoch 40, CIFAR-10 Batch 5:  >Loss =  0.207006 | >validation accuracy =  0.6348\n",
      "Epoch 41, CIFAR-10 Batch 1:  >Loss =  0.294364 | >validation accuracy =  0.6282\n",
      "Epoch 41, CIFAR-10 Batch 2:  >Loss =  0.268167 | >validation accuracy =  0.6252\n",
      "Epoch 41, CIFAR-10 Batch 3:  >Loss =  0.219413 | >validation accuracy =  0.618\n",
      "Epoch 41, CIFAR-10 Batch 4:  >Loss =  0.21345 | >validation accuracy =  0.622\n",
      "Epoch 41, CIFAR-10 Batch 5:  >Loss =  0.195412 | >validation accuracy =  0.6262\n"
     ]
    },
    {
     "name": "stdout",
     "output_type": "stream",
     "text": [
      "Epoch 42, CIFAR-10 Batch 1:  >Loss =  0.290516 | >validation accuracy =  0.6256\n",
      "Epoch 42, CIFAR-10 Batch 2:  >Loss =  0.252744 | >validation accuracy =  0.6284\n",
      "Epoch 42, CIFAR-10 Batch 3:  >Loss =  0.199619 | >validation accuracy =  0.631\n",
      "Epoch 42, CIFAR-10 Batch 4:  >Loss =  0.196153 | >validation accuracy =  0.6216\n",
      "Epoch 42, CIFAR-10 Batch 5:  >Loss =  0.201782 | >validation accuracy =  0.6342\n",
      "Epoch 43, CIFAR-10 Batch 1:  >Loss =  0.290978 | >validation accuracy =  0.6236\n",
      "Epoch 43, CIFAR-10 Batch 2:  >Loss =  0.257646 | >validation accuracy =  0.6344\n",
      "Epoch 43, CIFAR-10 Batch 3:  >Loss =  0.201703 | >validation accuracy =  0.6256\n",
      "Epoch 43, CIFAR-10 Batch 4:  >Loss =  0.191204 | >validation accuracy =  0.6304\n",
      "Epoch 43, CIFAR-10 Batch 5:  >Loss =  0.19235 | >validation accuracy =  0.6374\n",
      "Epoch 44, CIFAR-10 Batch 1:  >Loss =  0.28554 | >validation accuracy =  0.6274\n",
      "Epoch 44, CIFAR-10 Batch 2:  >Loss =  0.240581 | >validation accuracy =  0.6302\n",
      "Epoch 44, CIFAR-10 Batch 3:  >Loss =  0.193667 | >validation accuracy =  0.629\n",
      "Epoch 44, CIFAR-10 Batch 4:  >Loss =  0.189548 | >validation accuracy =  0.6198\n",
      "Epoch 44, CIFAR-10 Batch 5:  >Loss =  0.178496 | >validation accuracy =  0.6336\n",
      "Epoch 45, CIFAR-10 Batch 1:  >Loss =  0.282143 | >validation accuracy =  0.629\n",
      "Epoch 45, CIFAR-10 Batch 2:  >Loss =  0.220636 | >validation accuracy =  0.6328\n",
      "Epoch 45, CIFAR-10 Batch 3:  >Loss =  0.199932 | >validation accuracy =  0.6252\n",
      "Epoch 45, CIFAR-10 Batch 4:  >Loss =  0.174373 | >validation accuracy =  0.6268\n",
      "Epoch 45, CIFAR-10 Batch 5:  >Loss =  0.161716 | >validation accuracy =  0.6364\n",
      "Epoch 46, CIFAR-10 Batch 1:  >Loss =  0.261223 | >validation accuracy =  0.6276\n",
      "Epoch 46, CIFAR-10 Batch 2:  >Loss =  0.223639 | >validation accuracy =  0.635\n",
      "Epoch 46, CIFAR-10 Batch 3:  >Loss =  0.175633 | >validation accuracy =  0.6346\n",
      "Epoch 46, CIFAR-10 Batch 4:  >Loss =  0.170488 | >validation accuracy =  0.6242\n",
      "Epoch 46, CIFAR-10 Batch 5:  >Loss =  0.170392 | >validation accuracy =  0.6314\n",
      "Epoch 47, CIFAR-10 Batch 1:  >Loss =  0.270215 | >validation accuracy =  0.6138\n",
      "Epoch 47, CIFAR-10 Batch 2:  >Loss =  0.226992 | >validation accuracy =  0.6332\n",
      "Epoch 47, CIFAR-10 Batch 3:  >Loss =  0.185849 | >validation accuracy =  0.6336\n",
      "Epoch 47, CIFAR-10 Batch 4:  >Loss =  0.18243 | >validation accuracy =  0.6246\n",
      "Epoch 47, CIFAR-10 Batch 5:  >Loss =  0.178649 | >validation accuracy =  0.6366\n",
      "Epoch 48, CIFAR-10 Batch 1:  >Loss =  0.244262 | >validation accuracy =  0.6238\n",
      "Epoch 48, CIFAR-10 Batch 2:  >Loss =  0.197992 | >validation accuracy =  0.6396\n",
      "Epoch 48, CIFAR-10 Batch 3:  >Loss =  0.181889 | >validation accuracy =  0.6306\n",
      "Epoch 48, CIFAR-10 Batch 4:  >Loss =  0.184775 | >validation accuracy =  0.6198\n",
      "Epoch 48, CIFAR-10 Batch 5:  >Loss =  0.190185 | >validation accuracy =  0.6264\n",
      "Epoch 49, CIFAR-10 Batch 1:  >Loss =  0.251802 | >validation accuracy =  0.6182\n",
      "Epoch 49, CIFAR-10 Batch 2:  >Loss =  0.202877 | >validation accuracy =  0.6376\n",
      "Epoch 49, CIFAR-10 Batch 3:  >Loss =  0.160906 | >validation accuracy =  0.628\n",
      "Epoch 49, CIFAR-10 Batch 4:  >Loss =  0.166466 | >validation accuracy =  0.6252\n",
      "Epoch 49, CIFAR-10 Batch 5:  >Loss =  0.175683 | >validation accuracy =  0.6262\n",
      "Epoch 50, CIFAR-10 Batch 1:  >Loss =  0.232602 | >validation accuracy =  0.6192\n",
      "Epoch 50, CIFAR-10 Batch 2:  >Loss =  0.20908 | >validation accuracy =  0.6398\n",
      "Epoch 50, CIFAR-10 Batch 3:  >Loss =  0.158721 | >validation accuracy =  0.6254\n",
      "Epoch 50, CIFAR-10 Batch 4:  >Loss =  0.158413 | >validation accuracy =  0.6332\n",
      "Epoch 50, CIFAR-10 Batch 5:  >Loss =  0.158572 | >validation accuracy =  0.6342\n"
     ]
    }
   ],
   "source": [
    "\"\"\"\n",
    "DON'T MODIFY ANYTHING IN THIS CELL\n",
    "\"\"\"\n",
    "save_model_path = './image_classification'\n",
    "\n",
    "print('Training...')\n",
    "with tf.Session() as sess:\n",
    "    # Initializing the variables\n",
    "    sess.run(tf.global_variables_initializer())\n",
    "    \n",
    "    # Training cycle\n",
    "    for epoch in range(epochs):\n",
    "        # Loop over all batches\n",
    "        n_batches = 5\n",
    "        for batch_i in range(1, n_batches + 1):\n",
    "            for batch_features, batch_labels in helper.load_preprocess_training_batch(batch_i, batch_size):\n",
    "                train_neural_network(sess, optimizer, keep_probability, batch_features, batch_labels)\n",
    "            print('Epoch {:>2}, CIFAR-10 Batch {}:  '.format(epoch + 1, batch_i), end='')\n",
    "            print_stats(sess, batch_features, batch_labels, cost, accuracy)\n",
    "            \n",
    "    # Save Model\n",
    "    saver = tf.train.Saver()\n",
    "    save_path = saver.save(sess, save_model_path)"
   ]
  },
  {
   "cell_type": "markdown",
   "metadata": {},
   "source": [
    "# Checkpoint\n",
    "The model has been saved to disk.\n",
    "## Test Model\n",
    "Test your model against the test dataset.  This will be your final accuracy. You should have an accuracy greater than 50%. If you don't, keep tweaking the model architecture and parameters."
   ]
  },
  {
   "cell_type": "code",
   "execution_count": 100,
   "metadata": {},
   "outputs": [
    {
     "name": "stdout",
     "output_type": "stream",
     "text": [
      "Testing Accuracy: 0.63232421875\n",
      "\n"
     ]
    },
    {
     "data": {
      "image/png": "[encoded data removed]",
      "text/plain": [
       "<matplotlib.figure.Figure at 0x24981798978>"
      ]
     },
     "metadata": {
      "image/png": {
       "height": 319,
       "width": 355
      }
     },
     "output_type": "display_data"
    }
   ],
   "source": [
    "\"\"\"\n",
    "DON'T MODIFY ANYTHING IN THIS CELL\n",
    "\"\"\"\n",
    "%matplotlib inline\n",
    "%config InlineBackend.figure_format = 'retina'\n",
    "\n",
    "import tensorflow as tf\n",
    "import pickle\n",
    "import helper\n",
    "import random\n",
    "\n",
    "# Set batch size if not already set\n",
    "try:\n",
    "    if batch_size:\n",
    "        pass\n",
    "except NameError:\n",
    "    batch_size = 64\n",
    "\n",
    "save_model_path = './image_classification'\n",
    "n_samples = 4\n",
    "top_n_predictions = 3\n",
    "\n",
    "def test_model():\n",
    "    \"\"\"\n",
    "    Test the saved model against the test dataset\n",
    "    \"\"\"\n",
    "\n",
    "    test_features, test_labels = pickle.load(open('preprocess_test.p', mode='rb'))\n",
    "    loaded_graph = tf.Graph()\n",
    "\n",
    "    with tf.Session(graph=loaded_graph) as sess:\n",
    "        # Load model\n",
    "        loader = tf.train.import_meta_graph(save_model_path + '.meta')\n",
    "        loader.restore(sess, save_model_path)\n",
    "\n",
    "        # Get Tensors from loaded model\n",
    "        loaded_x = loaded_graph.get_tensor_by_name('x:0')\n",
    "        loaded_y = loaded_graph.get_tensor_by_name('y:0')\n",
    "        loaded_keep_prob = loaded_graph.get_tensor_by_name('keep_prob:0')\n",
    "        loaded_logits = loaded_graph.get_tensor_by_name('logits:0')\n",
    "        loaded_acc = loaded_graph.get_tensor_by_name('accuracy:0')\n",
    "        \n",
    "        # Get accuracy in batches for memory limitations\n",
    "        test_batch_acc_total = 0\n",
    "        test_batch_count = 0\n",
    "        \n",
    "        for test_feature_batch, test_label_batch in helper.batch_features_labels(test_features, test_labels, batch_size):\n",
    "            test_batch_acc_total += sess.run(\n",
    "                loaded_acc,\n",
    "                feed_dict={loaded_x: test_feature_batch, loaded_y: test_label_batch, loaded_keep_prob: 1.0})\n",
    "            test_batch_count += 1\n",
    "\n",
    "        print('Testing Accuracy: {}\\n'.format(test_batch_acc_total/test_batch_count))\n",
    "\n",
    "        # Print Random Samples\n",
    "        random_test_features, random_test_labels = tuple(zip(*random.sample(list(zip(test_features, test_labels)), n_samples)))\n",
    "        random_test_predictions = sess.run(\n",
    "            tf.nn.top_k(tf.nn.softmax(loaded_logits), top_n_predictions),\n",
    "            feed_dict={loaded_x: random_test_features, loaded_y: random_test_labels, loaded_keep_prob: 1.0})\n",
    "        helper.display_image_predictions(random_test_features, random_test_labels, random_test_predictions)\n",
    "\n",
    "\n",
    "test_model()"
   ]
  },
  {
   "cell_type": "markdown",
   "metadata": {},
   "source": [
    "## Why 50-80% Accuracy?\n",
    "You might be wondering why you can't get an accuracy any higher. First things first, 50% isn't bad for a simple CNN.  Pure guessing would get you 10% accuracy. However, you might notice people are getting scores [well above 80%](http://rodrigob.github.io/are_we_there_yet/build/classification_datasets_results.html#43494641522d3130).  That's because we haven't taught you all there is to know about neural networks. We still need to cover a few more techniques.\n",
    "## Submitting This Project\n",
    "When submitting this project, make sure to run all the cells before saving the notebook.  Save the notebook file as \"dlnd_image_classification.ipynb\" and save it as a HTML file under \"File\" -> \"Download as\".  Include the \"helper.py\" and \"problem_unittests.py\" files in your submission."
   ]
  },
  {
   "cell_type": "code",
   "execution_count": null,
   "metadata": {
    "collapsed": true
   },
   "outputs": [],
   "source": []
  },
  {
   "cell_type": "code",
   "execution_count": null,
   "metadata": {
    "collapsed": true
   },
   "outputs": [],
   "source": []
  }
 ],
 "metadata": {
  "anaconda-cloud": {},
  "kernelspec": {
   "display_name": "Python [conda env:dlnd-tf-lab]",
   "language": "python",
   "name": "conda-env-dlnd-tf-lab-py"
  },
  "language_info": {
   "codemirror_mode": {
    "name": "ipython",
    "version": 3
   },
   "file_extension": ".py",
   "mimetype": "text/x-python",
   "name": "python",
   "nbconvert_exporter": "python",
   "pygments_lexer": "ipython3",
   "version": "3.5.2"
  }
 },
 "nbformat": 4,
 "nbformat_minor": 1
}
