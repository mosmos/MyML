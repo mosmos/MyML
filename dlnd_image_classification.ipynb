{
 "cells": [
  {
   "cell_type": "markdown",
   "metadata": {
    "collapsed": true
   },
   "source": [
    "# Image Classification\n",
    "In this project, you'll classify images from the [CIFAR-10 dataset](https://www.cs.toronto.edu/~kriz/cifar.html).  The dataset consists of airplanes, dogs, cats, and other objects. You'll preprocess the images, then train a convolutional neural network on all the samples. The images need to be normalized and the labels need to be one-hot encoded.  You'll get to apply what you learned and build a convolutional, max pooling, dropout, and fully connected layers.  At the end, you'll get to see your neural network's predictions on the sample images.\n",
    "## Get the Data\n",
    "Run the following cell to download the [CIFAR-10 dataset for python](https://www.cs.toronto.edu/~kriz/cifar-10-python.tar.gz)."
   ]
  },
  {
   "cell_type": "code",
   "execution_count": 1,
   "metadata": {},
   "outputs": [
    {
     "name": "stderr",
     "output_type": "stream",
     "text": [
      "CIFAR-10 Dataset: 171MB [02:32, 1.12MB/s]                                      \n"
     ]
    },
    {
     "name": "stdout",
     "output_type": "stream",
     "text": [
      "All files found!\n"
     ]
    }
   ],
   "source": [
    "\"\"\"\n",
    "DON'T MODIFY ANYTHING IN THIS CELL THAT IS BELOW THIS LINE\n",
    "\"\"\"\n",
    "from urllib.request import urlretrieve\n",
    "from os.path import isfile, isdir\n",
    "from tqdm import tqdm\n",
    "import problem_unittests as tests\n",
    "import tarfile\n",
    "\n",
    "cifar10_dataset_folder_path = 'cifar-10-batches-py'\n",
    "\n",
    "# Use Floyd's cifar-10 dataset if present\n",
    "floyd_cifar10_location = '/input/cifar-10/python.tar.gz'\n",
    "if isfile(floyd_cifar10_location):\n",
    "    tar_gz_path = floyd_cifar10_location\n",
    "else:\n",
    "    tar_gz_path = 'cifar-10-python.tar.gz'\n",
    "\n",
    "class DLProgress(tqdm):\n",
    "    last_block = 0\n",
    "\n",
    "    def hook(self, block_num=1, block_size=1, total_size=None):\n",
    "        self.total = total_size\n",
    "        self.update((block_num - self.last_block) * block_size)\n",
    "        self.last_block = block_num\n",
    "\n",
    "if not isfile(tar_gz_path):\n",
    "    with DLProgress(unit='B', unit_scale=True, miniters=1, desc='CIFAR-10 Dataset') as pbar:\n",
    "        urlretrieve(\n",
    "            'https://www.cs.toronto.edu/~kriz/cifar-10-python.tar.gz',\n",
    "            tar_gz_path,\n",
    "            pbar.hook)\n",
    "\n",
    "if not isdir(cifar10_dataset_folder_path):\n",
    "    with tarfile.open(tar_gz_path) as tar:\n",
    "        tar.extractall()\n",
    "        tar.close()\n",
    "\n",
    "\n",
    "tests.test_folder_path(cifar10_dataset_folder_path)"
   ]
  },
  {
   "cell_type": "markdown",
   "metadata": {},
   "source": [
    "## Explore the Data\n",
    "The dataset is broken into batches to prevent your machine from running out of memory.  The CIFAR-10 dataset consists of 5 batches, named `data_batch_1`, `data_batch_2`, etc.. Each batch contains the labels and images that are one of the following:\n",
    "* airplane\n",
    "* automobile\n",
    "* bird\n",
    "* cat\n",
    "* deer\n",
    "* dog\n",
    "* frog\n",
    "* horse\n",
    "* ship\n",
    "* truck\n",
    "\n",
    "Understanding a dataset is part of making predictions on the data.  Play around with the code cell below by changing the `batch_id` and `sample_id`. The `batch_id` is the id for a batch (1-5). The `sample_id` is the id for a image and label pair in the batch.\n",
    "\n",
    "Ask yourself \"What are all possible labels?\", \"What is the range of values for the image data?\", \"Are the labels in order or random?\".  Answers to questions like these will help you preprocess the data and end up with better predictions."
   ]
  },
  {
   "cell_type": "code",
   "execution_count": 6,
   "metadata": {},
   "outputs": [
    {
     "name": "stdout",
     "output_type": "stream",
     "text": [
      "\n",
      "Stats of batch 1:\n",
      "Samples: 10000\n",
      "Label Counts: {0: 1005, 1: 974, 2: 1032, 3: 1016, 4: 999, 5: 937, 6: 1030, 7: 1001, 8: 1025, 9: 981}\n",
      "First 20 Labels: [6, 9, 9, 4, 1, 1, 2, 7, 8, 3, 4, 7, 7, 2, 9, 9, 9, 3, 2, 6]\n",
      "\n",
      "Example of Image 7:\n",
      "Image - Min Value: 9 Max Value: 248\n",
      "Image - Shape: (32, 32, 3)\n",
      "Label - Label Id: 7 Name: horse\n"
     ]
    },
    {
     "data": {
      "image/png": "[encoded data removed]",
      "text/plain": [
       "<matplotlib.figure.Figure at 0x249e9223cc0>"
      ]
     },
     "metadata": {
      "image/png": {
       "height": 250,
       "width": 253
      }
     },
     "output_type": "display_data"
    }
   ],
   "source": [
    "%matplotlib inline\n",
    "%config InlineBackend.figure_format = 'retina'\n",
    "\n",
    "import helper\n",
    "import numpy as np\n",
    "\n",
    "# Explore the dataset\n",
    "batch_id = 1\n",
    "sample_id = 7\n",
    "helper.display_stats(cifar10_dataset_folder_path, batch_id, sample_id)"
   ]
  },
  {
   "cell_type": "markdown",
   "metadata": {},
   "source": [
    "## Implement Preprocess Functions\n",
    "### Normalize\n",
    "In the cell below, implement the `normalize` function to take in image data, `x`, and return it as a normalized Numpy array. The values should be in the range of 0 to 1, inclusive.  The return object should be the same shape as `x`."
   ]
  },
  {
   "cell_type": "code",
   "execution_count": 4,
   "metadata": {},
   "outputs": [
    {
     "name": "stdout",
     "output_type": "stream",
     "text": [
      "Tests Passed\n"
     ]
    }
   ],
   "source": [
    "def normalize(x):\n",
    "    \"\"\"\n",
    "    Normalize a list of sample image data in the range of 0 to 1\n",
    "    : x: List of image data.  The image shape is (32, 32, 3)\n",
    "    : return: Numpy array of normalize data\n",
    "    \"\"\"\n",
    "    # TODO: Implement Function\n",
    "    # try mean/std eg x => (x - Mean) / Deviation |will  not be 1-0\n",
    "    return x/255.0\n",
    "\n",
    "\n",
    "\"\"\"\n",
    "DON'T MODIFY ANYTHING IN THIS CELL THAT IS BELOW THIS LINE\n",
    "\"\"\"\n",
    "tests.test_normalize(normalize)"
   ]
  },
  {
   "cell_type": "markdown",
   "metadata": {},
   "source": [
    "### One-hot encode\n",
    "Just like the previous code cell, you'll be implementing a function for preprocessing.  This time, you'll implement the `one_hot_encode` function. The input, `x`, are a list of labels.  Implement the function to return the list of labels as One-Hot encoded Numpy array.  The possible values for labels are 0 to 9. The one-hot encoding function should return the same encoding for each value between each call to `one_hot_encode`.  Make sure to save the map of encodings outside the function.\n",
    "\n",
    "Hint: Don't reinvent the wheel."
   ]
  },
  {
   "cell_type": "code",
   "execution_count": 19,
   "metadata": {},
   "outputs": [
    {
     "name": "stdout",
     "output_type": "stream",
     "text": [
      "Tests Passed\n"
     ]
    }
   ],
   "source": [
    "def one_hot_encode(x):\n",
    "    \"\"\"\n",
    "    One hot encode a list of sample labels. Return a one-hot encoded vector for each label.\n",
    "    : x: List of sample Labels\n",
    "    : return: Numpy array of one-hot encoded labels\n",
    "    \"\"\"\n",
    "    # TODO: Implement Function\n",
    "    #print (np.identity(10)[x])\n",
    "    return np.identity(10)[x]\n",
    "\n",
    "\n",
    "\"\"\"\n",
    "DON'T MODIFY ANYTHING IN THIS CELL THAT IS BELOW THIS LINE\n",
    "\"\"\"\n",
    "tests.test_one_hot_encode(one_hot_encode)"
   ]
  },
  {
   "cell_type": "markdown",
   "metadata": {},
   "source": [
    "### Randomize Data\n",
    "As you saw from exploring the data above, the order of the samples are randomized.  It doesn't hurt to randomize it again, but you don't need to for this dataset."
   ]
  },
  {
   "cell_type": "markdown",
   "metadata": {},
   "source": [
    "## Preprocess all the data and save it\n",
    "Running the code cell below will preprocess all the CIFAR-10 data and save it to file. The code below also uses 10% of the training data for validation."
   ]
  },
  {
   "cell_type": "code",
   "execution_count": 20,
   "metadata": {
    "collapsed": true
   },
   "outputs": [],
   "source": [
    "\"\"\"\n",
    "DON'T MODIFY ANYTHING IN THIS CELL\n",
    "\"\"\"\n",
    "# Preprocess Training, Validation, and Testing Data\n",
    "helper.preprocess_and_save_data(cifar10_dataset_folder_path, normalize, one_hot_encode)"
   ]
  },
  {
   "cell_type": "markdown",
   "metadata": {},
   "source": [
    "# Check Point\n",
    "This is your first checkpoint.  If you ever decide to come back to this notebook or have to restart the notebook, you can start from here.  The preprocessed data has been saved to disk."
   ]
  },
  {
   "cell_type": "code",
   "execution_count": 21,
   "metadata": {
    "collapsed": true
   },
   "outputs": [],
   "source": [
    "\"\"\"\n",
    "DON'T MODIFY ANYTHING IN THIS CELL\n",
    "\"\"\"\n",
    "import pickle\n",
    "import problem_unittests as tests\n",
    "import helper\n",
    "\n",
    "# Load the Preprocessed Validation data\n",
    "valid_features, valid_labels = pickle.load(open('preprocess_validation.p', mode='rb'))"
   ]
  },
  {
   "cell_type": "markdown",
   "metadata": {},
   "source": [
    "## Build the network\n",
    "For the neural network, you'll build each layer into a function.  Most of the code you've seen has been outside of functions. To test your code more thoroughly, we require that you put each layer in a function.  This allows us to give you better feedback and test for simple mistakes using our unittests before you submit your project.\n",
    "\n",
    ">**Note:** If you're finding it hard to dedicate enough time for this course each week, we've provided a small shortcut to this part of the project. In the next couple of problems, you'll have the option to use classes from the [TensorFlow Layers](https://www.tensorflow.org/api_docs/python/tf/layers) or [TensorFlow Layers (contrib)](https://www.tensorflow.org/api_guides/python/contrib.layers) packages to build each layer, except the layers you build in the \"Convolutional and Max Pooling Layer\" section.  TF Layers is similar to Keras's and TFLearn's abstraction to layers, so it's easy to pickup.\n",
    "\n",
    ">However, if you would like to get the most out of this course, try to solve all the problems _without_ using anything from the TF Layers packages. You **can** still use classes from other packages that happen to have the same name as ones you find in TF Layers! For example, instead of using the TF Layers version of the `conv2d` class, [tf.layers.conv2d](https://www.tensorflow.org/api_docs/python/tf/layers/conv2d), you would want to use the TF Neural Network version of `conv2d`, [tf.nn.conv2d](https://www.tensorflow.org/api_docs/python/tf/nn/conv2d). \n",
    "\n",
    "Let's begin!\n",
    "\n",
    "### Input\n",
    "The neural network needs to read the image data, one-hot encoded labels, and dropout keep probability. Implement the following functions\n",
    "* Implement `neural_net_image_input`\n",
    " * Return a [TF Placeholder](https://www.tensorflow.org/api_docs/python/tf/placeholder)\n",
    " * Set the shape using `image_shape` with batch size set to `None`.\n",
    " * Name the TensorFlow placeholder \"x\" using the TensorFlow `name` parameter in the [TF Placeholder](https://www.tensorflow.org/api_docs/python/tf/placeholder).\n",
    "* Implement `neural_net_label_input`\n",
    " * Return a [TF Placeholder](https://www.tensorflow.org/api_docs/python/tf/placeholder)\n",
    " * Set the shape using `n_classes` with batch size set to `None`.\n",
    " * Name the TensorFlow placeholder \"y\" using the TensorFlow `name` parameter in the [TF Placeholder](https://www.tensorflow.org/api_docs/python/tf/placeholder).\n",
    "* Implement `neural_net_keep_prob_input`\n",
    " * Return a [TF Placeholder](https://www.tensorflow.org/api_docs/python/tf/placeholder) for dropout keep probability.\n",
    " * Name the TensorFlow placeholder \"keep_prob\" using the TensorFlow `name` parameter in the [TF Placeholder](https://www.tensorflow.org/api_docs/python/tf/placeholder).\n",
    "\n",
    "These names will be used at the end of the project to load your saved model.\n",
    "\n",
    "Note: `None` for shapes in TensorFlow allow for a dynamic size."
   ]
  },
  {
   "cell_type": "code",
   "execution_count": 23,
   "metadata": {},
   "outputs": [
    {
     "name": "stdout",
     "output_type": "stream",
     "text": [
      "Image Input Tests Passed.\n",
      "Label Input Tests Passed.\n",
      "Keep Prob Tests Passed.\n"
     ]
    }
   ],
   "source": [
    "import tensorflow as tf\n",
    "\n",
    "def neural_net_image_input(image_shape):\n",
    "    \"\"\"\n",
    "    Return a Tensor for a batch of image input\n",
    "    : image_shape: Shape of the images\n",
    "    : return: Tensor for image input.\n",
    "    \"\"\"\n",
    "    # TODO: Implement Function\n",
    "    shape = image_shape\n",
    "    img = tf.placeholder(tf.float32,shape=(None,shape[0],shape[1],shape[2]),name=\"x\")\n",
    "    return img\n",
    "\n",
    "\n",
    "def neural_net_label_input(n_classes):\n",
    "    \"\"\"\n",
    "    Return a Tensor for a batch of label input\n",
    "    : n_classes: Number of classes\n",
    "    : return: Tensor for label input.\n",
    "    \"\"\"\n",
    "    # TODO: Implement Function\n",
    "    return tf.placeholder (tf.float32,shape=(None,n_classes),name = \"y\")\n",
    "\n",
    "\n",
    "def neural_net_keep_prob_input():\n",
    "    \"\"\"\n",
    "    Return a Tensor for keep probability\n",
    "    : return: Tensor for keep probability.\n",
    "    \"\"\"\n",
    "    # TODO: Implement Function\n",
    "    return tf.placeholder(tf.float32,name = \"keep_prob\")\n",
    "\n",
    "\n",
    "\"\"\"\n",
    "DON'T MODIFY ANYTHING IN THIS CELL THAT IS BELOW THIS LINE\n",
    "\"\"\"\n",
    "tf.reset_default_graph()\n",
    "tests.test_nn_image_inputs(neural_net_image_input)\n",
    "tests.test_nn_label_inputs(neural_net_label_input)\n",
    "tests.test_nn_keep_prob_inputs(neural_net_keep_prob_input)"
   ]
  },
  {
   "cell_type": "markdown",
   "metadata": {},
   "source": [
    "### Convolution and Max Pooling Layer\n",
    "Convolution layers have a lot of success with images. For this code cell, you should implement the function `conv2d_maxpool` to apply convolution then max pooling:\n",
    "* Create the weight and bias using `conv_ksize`, `conv_num_outputs` and the shape of `x_tensor`.\n",
    "* Apply a convolution to `x_tensor` using weight and `conv_strides`.\n",
    " * We recommend you use same padding, but you're welcome to use any padding.\n",
    "* Add bias\n",
    "* Add a nonlinear activation to the convolution.\n",
    "* Apply Max Pooling using `pool_ksize` and `pool_strides`.\n",
    " * We recommend you use same padding, but you're welcome to use any padding.\n",
    "\n",
    "**Note:** You **can't** use [TensorFlow Layers](https://www.tensorflow.org/api_docs/python/tf/layers) or [TensorFlow Layers (contrib)](https://www.tensorflow.org/api_guides/python/contrib.layers) for **this** layer, but you can still use TensorFlow's [Neural Network](https://www.tensorflow.org/api_docs/python/tf/nn) package. You may still use the shortcut option for all the **other** layers."
   ]
  },
  {
   "cell_type": "code",
   "execution_count": 73,
   "metadata": {},
   "outputs": [
    {
     "name": "stdout",
     "output_type": "stream",
     "text": [
      "Tests Passed\n"
     ]
    }
   ],
   "source": [
    "def conv2d_maxpool(x_tensor, conv_num_outputs, conv_ksize, conv_strides, pool_ksize, pool_strides):\n",
    "    \"\"\"\n",
    "    Apply convolution then max pooling to x_tensor\n",
    "    :param x_tensor: TensorFlow Tensor\n",
    "    :param conv_num_outputs: Number of outputs for the convolutional layer\n",
    "    :param conv_ksize: kernal size 2-D Tuple for the convolutional layer\n",
    "    :param conv_strides: Stride 2-D Tuple for convolution\n",
    "    :param pool_ksize: kernal size 2-D Tuple for pool\n",
    "    :param pool_strides: Stride 2-D Tuple for pool\n",
    "    : return: A tensor that represents convolution and max pooling of x_tensor\n",
    "    \"\"\"\n",
    "    # TODO: Implement Function\n",
    "    W = tf.Variable(tf.truncated_normal([conv_ksize[0],conv_ksize[1],x_tensor.shape[3].value,conv_num_outputs],0,0.05))\n",
    "    B = tf.Variable(tf.constant([0.1]*conv_num_outputs))\n",
    "    \n",
    "    conv = tf.nn.conv2d(x_tensor,W,strides=[1,conv_strides[0],conv_strides[1],1], padding = 'SAME')\n",
    "    conv = tf.nn.bias_add(conv,B)\n",
    "    conv = tf.nn.relu(conv)\n",
    "    \n",
    "    maxpool = tf.nn.max_pool(conv,ksize = [1,pool_ksize[0],pool_ksize[1],1],strides = [1,pool_strides[0],pool_strides[1],1], padding='SAME')\n",
    "    \n",
    "    return maxpool\n",
    "\n",
    "\"\"\"\n",
    "DON'T MODIFY ANYTHING IN THIS CELL THAT IS BELOW THIS LINE\n",
    "\"\"\"\n",
    "tests.test_con_pool(conv2d_maxpool)"
   ]
  },
  {
   "cell_type": "markdown",
   "metadata": {},
   "source": [
    "### Flatten Layer\n",
    "Implement the `flatten` function to change the dimension of `x_tensor` from a 4-D tensor to a 2-D tensor.  The output should be the shape (*Batch Size*, *Flattened Image Size*). Shortcut option: you can use classes from the [TensorFlow Layers](https://www.tensorflow.org/api_docs/python/tf/layers) or [TensorFlow Layers (contrib)](https://www.tensorflow.org/api_guides/python/contrib.layers) packages for this layer. For more of a challenge, only use other TensorFlow packages."
   ]
  },
  {
   "cell_type": "code",
   "execution_count": 74,
   "metadata": {},
   "outputs": [
    {
     "name": "stdout",
     "output_type": "stream",
     "text": [
      "Tests Passed\n"
     ]
    }
   ],
   "source": [
    "def flatten(x_tensor):\n",
    "    \"\"\"\n",
    "    Flatten x_tensor to (Batch Size, Flattened Image Size)\n",
    "    : x_tensor: A tensor of size (Batch Size, ...), where ... are the image dimensions.\n",
    "    : return: A tensor of size (Batch Size, Flattened Image Size).\n",
    "    \"\"\"\n",
    "    # TODO: Implement Function\n",
    "    #print (tf.contrib.layers.flatten(x_tensor).shape)\n",
    "    #print (x_tensor.shape)\n",
    "    return tf.contrib.layers.flatten(x_tensor)\n",
    "\n",
    "\n",
    "\"\"\"\n",
    "DON'T MODIFY ANYTHING IN THIS CELL THAT IS BELOW THIS LINE\n",
    "\"\"\"\n",
    "tests.test_flatten(flatten)"
   ]
  },
  {
   "cell_type": "markdown",
   "metadata": {},
   "source": [
    "### Fully-Connected Layer\n",
    "Implement the `fully_conn` function to apply a fully connected layer to `x_tensor` with the shape (*Batch Size*, *num_outputs*). Shortcut option: you can use classes from the [TensorFlow Layers](https://www.tensorflow.org/api_docs/python/tf/layers) or [TensorFlow Layers (contrib)](https://www.tensorflow.org/api_guides/python/contrib.layers) packages for this layer. For more of a challenge, only use other TensorFlow packages."
   ]
  },
  {
   "cell_type": "code",
   "execution_count": 75,
   "metadata": {},
   "outputs": [
    {
     "name": "stdout",
     "output_type": "stream",
     "text": [
      "Tests Passed\n"
     ]
    }
   ],
   "source": [
    "def fully_conn(x_tensor, num_outputs):\n",
    "    \"\"\"\n",
    "    Apply a fully connected layer to x_tensor using weight and bias\n",
    "    : x_tensor: A 2-D tensor where the first dimension is batch size.\n",
    "    : num_outputs: The number of output that the new tensor should be.\n",
    "    : return: A 2-D tensor where the second dimension is num_outputs.\n",
    "    \"\"\"\n",
    "    # TODO: Implement Function\n",
    "    lyr =tf.contrib.layers.fully_connected(x_tensor,num_outputs)\n",
    "    return  tf.nn.relu(lyr)\n",
    "\n",
    "\n",
    "\"\"\"\n",
    "DON'T MODIFY ANYTHING IN THIS CELL THAT IS BELOW THIS LINE\n",
    "\"\"\"\n",
    "tests.test_fully_conn(fully_conn)"
   ]
  },
  {
   "cell_type": "markdown",
   "metadata": {},
   "source": [
    "### Output Layer\n",
    "Implement the `output` function to apply a fully connected layer to `x_tensor` with the shape (*Batch Size*, *num_outputs*). Shortcut option: you can use classes from the [TensorFlow Layers](https://www.tensorflow.org/api_docs/python/tf/layers) or [TensorFlow Layers (contrib)](https://www.tensorflow.org/api_guides/python/contrib.layers) packages for this layer. For more of a challenge, only use other TensorFlow packages.\n",
    "\n",
    "**Note:** Activation, softmax, or cross entropy should **not** be applied to this."
   ]
  },
  {
   "cell_type": "code",
   "execution_count": 76,
   "metadata": {},
   "outputs": [
    {
     "name": "stdout",
     "output_type": "stream",
     "text": [
      "Tests Passed\n"
     ]
    }
   ],
   "source": [
    "def output(x_tensor, num_outputs):\n",
    "    \"\"\"\n",
    "    Apply a output layer to x_tensor using weight and bias\n",
    "    : x_tensor: A 2-D tensor where the first dimension is batch size.\n",
    "    : num_outputs: The number of output that the new tensor should be.\n",
    "    : return: A 2-D tensor where the second dimension is num_outputs.\n",
    "    \"\"\"\n",
    "    # TODO: Implement Function\n",
    "    W_shape = x_tensor.shape[1].value\n",
    "    W = tf.Variable(tf.truncated_normal((W_shape, num_outputs),0,0.05))\n",
    "    B = tf.Variable(tf.constant((0.1)*num_outputs))\n",
    "    S = tf.add(tf.matmul(x_tensor,W),B) #no activation\n",
    "    return S\n",
    "\n",
    "\n",
    "\"\"\"\n",
    "DON'T MODIFY ANYTHING IN THIS CELL THAT IS BELOW THIS LINE\n",
    "\"\"\"\n",
    "tests.test_output(output)"
   ]
  },
  {
   "cell_type": "markdown",
   "metadata": {},
   "source": [
    "### Create Convolutional Model\n",
    "Implement the function `conv_net` to create a convolutional neural network model. The function takes in a batch of images, `x`, and outputs logits.  Use the layers you created above to create this model:\n",
    "\n",
    "* Apply 1, 2, or 3 Convolution and Max Pool layers\n",
    "* Apply a Flatten Layer\n",
    "* Apply 1, 2, or 3 Fully Connected Layers\n",
    "* Apply an Output Layer\n",
    "* Return the output\n",
    "* Apply [TensorFlow's Dropout](https://www.tensorflow.org/api_docs/python/tf/nn/dropout) to one or more layers in the model using `keep_prob`. "
   ]
  },
  {
   "cell_type": "code",
   "execution_count": 82,
   "metadata": {},
   "outputs": [
    {
     "name": "stdout",
     "output_type": "stream",
     "text": [
      "Neural Network Built!\n"
     ]
    }
   ],
   "source": [
    "def conv_net(x, keep_prob):\n",
    "    \"\"\"\n",
    "    Create a convolutional neural network model\n",
    "    : x: Placeholder tensor that holds image data.\n",
    "    : keep_prob: Placeholder tensor that hold dropout keep probability.\n",
    "    : return: Tensor that represents logits\n",
    "    \"\"\"\n",
    "    # TODO: Apply 1, 2, or 3 Convolution and Max Pool layers\n",
    "    #    Play around with different number of outputs, kernel size and stride\n",
    "    # Function Definition from Above:\n",
    "    #    conv2d_maxpool(x_tensor, conv_num_outputs, conv_ksize, conv_strides, pool_ksize, pool_strides)\n",
    "    maxpool = conv2d_maxpool(x,       16, (3, 3), (2, 2), (2, 2), (2, 2))\n",
    "    maxpool = conv2d_maxpool(maxpool, 32, (6, 6), (2, 2), (2, 2), (2, 2))\n",
    "    \n",
    "\n",
    "\n",
    "    # TODO: Apply a Flatten Layer\n",
    "    # Function Definition from Above:\n",
    "    #   flatten(x_tensor)\n",
    "    x = flatten(maxpool)\n",
    "\n",
    "    # TODO: Apply 1, 2, or 3 Fully Connected Layers\n",
    "    #    Play around with different number of outputs\n",
    "    # Function Definition from Above:\n",
    "    #   fully_conn(x_tensor, num_outputs)\n",
    "    x = fully_conn(x, 200)\n",
    "    x = tf.nn.dropout(x, keep_prob)\n",
    "    x = fully_conn(x, 100)\n",
    "    x = tf.nn.dropout(x, keep_prob)\n",
    "    #x = fully_conn(x, 50)\n",
    "    #x = tf.nn.dropout(x, keep_prob)\n",
    "    \n",
    "    \n",
    "    # TODO: Apply an Output Layer\n",
    "    #    Set this to the number of classes\n",
    "    # Function Definition from Above:\n",
    "    #   output(x_tensor, num_outputs)\n",
    "    out = output(x, 10)\n",
    "    \n",
    "    # TODO: return output\n",
    "    return out\n",
    "\n",
    "\n",
    "\"\"\"\n",
    "DON'T MODIFY ANYTHING IN THIS CELL THAT IS BELOW THIS LINE\n",
    "\"\"\"\n",
    "\n",
    "##############################\n",
    "## Build the Neural Network ##\n",
    "##############################\n",
    "\n",
    "# Remove previous weights, bias, inputs, etc..\n",
    "tf.reset_default_graph()\n",
    "\n",
    "# Inputs\n",
    "x = neural_net_image_input((32, 32, 3))\n",
    "y = neural_net_label_input(10)\n",
    "keep_prob = neural_net_keep_prob_input()\n",
    "\n",
    "# Model\n",
    "logits = conv_net(x, keep_prob)\n",
    "\n",
    "# Name logits Tensor, so that is can be loaded from disk after training\n",
    "logits = tf.identity(logits, name='logits')\n",
    "\n",
    "# Loss and Optimizer\n",
    "cost = tf.reduce_mean(tf.nn.softmax_cross_entropy_with_logits(logits=logits, labels=y))\n",
    "optimizer = tf.train.AdamOptimizer().minimize(cost)\n",
    "\n",
    "# Accuracy\n",
    "correct_pred = tf.equal(tf.argmax(logits, 1), tf.argmax(y, 1))\n",
    "accuracy = tf.reduce_mean(tf.cast(correct_pred, tf.float32), name='accuracy')\n",
    "\n",
    "tests.test_conv_net(conv_net)"
   ]
  },
  {
   "cell_type": "markdown",
   "metadata": {},
   "source": [
    "## Train the Neural Network\n",
    "### Single Optimization\n",
    "Implement the function `train_neural_network` to do a single optimization.  The optimization should use `optimizer` to optimize in `session` with a `feed_dict` of the following:\n",
    "* `x` for image input\n",
    "* `y` for labels\n",
    "* `keep_prob` for keep probability for dropout\n",
    "\n",
    "This function will be called for each batch, so `tf.global_variables_initializer()` has already been called.\n",
    "\n",
    "Note: Nothing needs to be returned. This function is only optimizing the neural network."
   ]
  },
  {
   "cell_type": "code",
   "execution_count": 83,
   "metadata": {},
   "outputs": [
    {
     "name": "stdout",
     "output_type": "stream",
     "text": [
      "Tests Passed\n"
     ]
    }
   ],
   "source": [
    "def train_neural_network(session, optimizer, keep_probability, feature_batch, label_batch):\n",
    "    \"\"\"\n",
    "    Optimize the session on a batch of images and labels\n",
    "    : session: Current TensorFlow session\n",
    "    : optimizer: TensorFlow optimizer function\n",
    "    : keep_probability: keep probability\n",
    "    : feature_batch: Batch of Numpy image data\n",
    "    : label_batch: Batch of Numpy label data\n",
    "    \"\"\"\n",
    "    # TODO: Implement Function\n",
    "    session.run(optimizer,feed_dict={x:feature_batch,y:label_batch, keep_prob:keep_probability})\n",
    "\n",
    "\n",
    "\"\"\"\n",
    "DON'T MODIFY ANYTHING IN THIS CELL THAT IS BELOW THIS LINE\n",
    "\"\"\"\n",
    "tests.test_train_nn(train_neural_network)"
   ]
  },
  {
   "cell_type": "markdown",
   "metadata": {},
   "source": [
    "### Show Stats\n",
    "Implement the function `print_stats` to print loss and validation accuracy.  Use the global variables `valid_features` and `valid_labels` to calculate validation accuracy.  Use a keep probability of `1.0` to calculate the loss and validation accuracy."
   ]
  },
  {
   "cell_type": "code",
   "execution_count": 84,
   "metadata": {
    "collapsed": true
   },
   "outputs": [],
   "source": [
    "def print_stats(session, feature_batch, label_batch, cost, accuracy):\n",
    "    \"\"\"\n",
    "    Print information about loss and validation accuracy\n",
    "    : session: Current TensorFlow session\n",
    "    : feature_batch: Batch of Numpy image data\n",
    "    : label_batch: Batch of Numpy label data\n",
    "    : cost: TensorFlow cost function\n",
    "    : accuracy: TensorFlow accuracy function\n",
    "    \"\"\"\n",
    "    # TODO: Implement Function\n",
    "    loss = session.run(cost,feed_dict     = {x:feature_batch,y:label_batch,keep_prob:1.0} )\n",
    "    validation_accuracy = session.run(accuracy,feed_dict = {x: valid_features,y:valid_labels,keep_prob:1.0})\n",
    "    \n",
    "    print('>Loss = ',loss,'| >validation accuracy = ',validation_accuracy)\n",
    "          "
   ]
  },
  {
   "cell_type": "markdown",
   "metadata": {},
   "source": [
    "### Hyperparameters\n",
    "Tune the following parameters:\n",
    "* Set `epochs` to the number of iterations until the network stops learning or start overfitting\n",
    "* Set `batch_size` to the highest number that your machine has memory for.  Most people set them to common sizes of memory:\n",
    " * 64\n",
    " * 128\n",
    " * 256\n",
    " * ...\n",
    "* Set `keep_probability` to the probability of keeping a node using dropout"
   ]
  },
  {
   "cell_type": "code",
   "execution_count": 85,
   "metadata": {
    "collapsed": true
   },
   "outputs": [],
   "source": [
    "# TODO: Tune Parameters\n",
    "epochs = 50\n",
    "batch_size = 256\n",
    "keep_probability = 0.8"
   ]
  },
  {
   "cell_type": "markdown",
   "metadata": {},
   "source": [
    "### Train on a Single CIFAR-10 Batch\n",
    "Instead of training the neural network on all the CIFAR-10 batches of data, let's use a single batch. This should save time while you iterate on the model to get a better accuracy.  Once the final validation accuracy is 50% or greater, run the model on all the data in the next section."
   ]
  },
  {
   "cell_type": "code",
   "execution_count": 86,
   "metadata": {},
   "outputs": [
    {
     "name": "stdout",
     "output_type": "stream",
     "text": [
      "Checking the Training on a Single Batch...\n",
      "Epoch  1, CIFAR-10 Batch 1:  >Loss =  2.15652 | >validation accuracy =  0.2216\n",
      "Epoch  2, CIFAR-10 Batch 1:  >Loss =  2.13479 | >validation accuracy =  0.2742\n",
      "Epoch  3, CIFAR-10 Batch 1:  >Loss =  2.01388 | >validation accuracy =  0.3132\n",
      "Epoch  4, CIFAR-10 Batch 1:  >Loss =  1.93344 | >validation accuracy =  0.3552\n",
      "Epoch  5, CIFAR-10 Batch 1:  >Loss =  1.88001 | >validation accuracy =  0.352\n",
      "Epoch  6, CIFAR-10 Batch 1:  >Loss =  1.81196 | >validation accuracy =  0.3898\n",
      "Epoch  7, CIFAR-10 Batch 1:  >Loss =  1.75071 | >validation accuracy =  0.4062\n",
      "Epoch  8, CIFAR-10 Batch 1:  >Loss =  1.67113 | >validation accuracy =  0.4156\n",
      "Epoch  9, CIFAR-10 Batch 1:  >Loss =  1.58567 | >validation accuracy =  0.4192\n",
      "Epoch 10, CIFAR-10 Batch 1:  >Loss =  1.47978 | >validation accuracy =  0.4296\n",
      "Epoch 11, CIFAR-10 Batch 1:  >Loss =  1.39161 | >validation accuracy =  0.4472\n",
      "Epoch 12, CIFAR-10 Batch 1:  >Loss =  1.288 | >validation accuracy =  0.4536\n",
      "Epoch 13, CIFAR-10 Batch 1:  >Loss =  1.23057 | >validation accuracy =  0.4556\n",
      "Epoch 14, CIFAR-10 Batch 1:  >Loss =  1.17018 | >validation accuracy =  0.4656\n",
      "Epoch 15, CIFAR-10 Batch 1:  >Loss =  1.12294 | >validation accuracy =  0.47\n",
      "Epoch 16, CIFAR-10 Batch 1:  >Loss =  1.10262 | >validation accuracy =  0.4688\n",
      "Epoch 17, CIFAR-10 Batch 1:  >Loss =  1.03792 | >validation accuracy =  0.474\n",
      "Epoch 18, CIFAR-10 Batch 1:  >Loss =  1.01022 | >validation accuracy =  0.4736\n",
      "Epoch 19, CIFAR-10 Batch 1:  >Loss =  0.972601 | >validation accuracy =  0.478\n",
      "Epoch 20, CIFAR-10 Batch 1:  >Loss =  0.966606 | >validation accuracy =  0.4842\n",
      "Epoch 21, CIFAR-10 Batch 1:  >Loss =  0.895022 | >validation accuracy =  0.4932\n",
      "Epoch 22, CIFAR-10 Batch 1:  >Loss =  0.852806 | >validation accuracy =  0.4994\n",
      "Epoch 23, CIFAR-10 Batch 1:  >Loss =  0.817055 | >validation accuracy =  0.4964\n",
      "Epoch 24, CIFAR-10 Batch 1:  >Loss =  0.785336 | >validation accuracy =  0.5018\n",
      "Epoch 25, CIFAR-10 Batch 1:  >Loss =  0.783637 | >validation accuracy =  0.4988\n",
      "Epoch 26, CIFAR-10 Batch 1:  >Loss =  0.727162 | >validation accuracy =  0.503\n",
      "Epoch 27, CIFAR-10 Batch 1:  >Loss =  0.711197 | >validation accuracy =  0.5002\n",
      "Epoch 28, CIFAR-10 Batch 1:  >Loss =  0.684222 | >validation accuracy =  0.5126\n",
      "Epoch 29, CIFAR-10 Batch 1:  >Loss =  0.648624 | >validation accuracy =  0.5108\n",
      "Epoch 30, CIFAR-10 Batch 1:  >Loss =  0.639391 | >validation accuracy =  0.5156\n",
      "Epoch 31, CIFAR-10 Batch 1:  >Loss =  0.617142 | >validation accuracy =  0.513\n",
      "Epoch 32, CIFAR-10 Batch 1:  >Loss =  0.586035 | >validation accuracy =  0.521\n",
      "Epoch 33, CIFAR-10 Batch 1:  >Loss =  0.560872 | >validation accuracy =  0.5222\n",
      "Epoch 34, CIFAR-10 Batch 1:  >Loss =  0.533253 | >validation accuracy =  0.5266\n",
      "Epoch 35, CIFAR-10 Batch 1:  >Loss =  0.51899 | >validation accuracy =  0.5234\n",
      "Epoch 36, CIFAR-10 Batch 1:  >Loss =  0.48715 | >validation accuracy =  0.5318\n",
      "Epoch 37, CIFAR-10 Batch 1:  >Loss =  0.464423 | >validation accuracy =  0.5298\n",
      "Epoch 38, CIFAR-10 Batch 1:  >Loss =  0.456792 | >validation accuracy =  0.5254\n",
      "Epoch 39, CIFAR-10 Batch 1:  >Loss =  0.451002 | >validation accuracy =  0.5314\n",
      "Epoch 40, CIFAR-10 Batch 1:  >Loss =  0.418346 | >validation accuracy =  0.529\n",
      "Epoch 41, CIFAR-10 Batch 1:  >Loss =  0.407549 | >validation accuracy =  0.5352\n",
      "Epoch 42, CIFAR-10 Batch 1:  >Loss =  0.384589 | >validation accuracy =  0.537\n",
      "Epoch 43, CIFAR-10 Batch 1:  >Loss =  0.406122 | >validation accuracy =  0.5296\n",
      "Epoch 44, CIFAR-10 Batch 1:  >Loss =  0.352334 | >validation accuracy =  0.5388\n",
      "Epoch 45, CIFAR-10 Batch 1:  >Loss =  0.361809 | >validation accuracy =  0.537\n",
      "Epoch 46, CIFAR-10 Batch 1:  >Loss =  0.319728 | >validation accuracy =  0.541\n",
      "Epoch 47, CIFAR-10 Batch 1:  >Loss =  0.329626 | >validation accuracy =  0.5318\n",
      "Epoch 48, CIFAR-10 Batch 1:  >Loss =  0.30934 | >validation accuracy =  0.5386\n",
      "Epoch 49, CIFAR-10 Batch 1:  >Loss =  0.369513 | >validation accuracy =  0.5052\n",
      "Epoch 50, CIFAR-10 Batch 1:  >Loss =  0.332227 | >validation accuracy =  0.5352\n"
     ]
    }
   ],
   "source": [
    "\"\"\"\n",
    "DON'T MODIFY ANYTHING IN THIS CELL\n",
    "\"\"\"\n",
    "print('Checking the Training on a Single Batch...')\n",
    "with tf.Session() as sess:\n",
    "    # Initializing the variables\n",
    "    sess.run(tf.global_variables_initializer())\n",
    "    \n",
    "    # Training cycle\n",
    "    for epoch in range(epochs):\n",
    "        batch_i = 1\n",
    "        for batch_features, batch_labels in helper.load_preprocess_training_batch(batch_i, batch_size):\n",
    "            train_neural_network(sess, optimizer, keep_probability, batch_features, batch_labels)\n",
    "        print('Epoch {:>2}, CIFAR-10 Batch {}:  '.format(epoch + 1, batch_i), end='')\n",
    "        print_stats(sess, batch_features, batch_labels, cost, accuracy)"
   ]
  },
  {
   "cell_type": "markdown",
   "metadata": {},
   "source": [
    "### Fully Train the Model\n",
    "Now that you got a good accuracy with a single CIFAR-10 batch, try it with all five batches."
   ]
  },
  {
   "cell_type": "code",
   "execution_count": 87,
   "metadata": {},
   "outputs": [
    {
     "name": "stdout",
     "output_type": "stream",
     "text": [
      "Training...\n",
      "Epoch  1, CIFAR-10 Batch 1:  >Loss =  2.16684 | >validation accuracy =  0.2232\n",
      "Epoch  1, CIFAR-10 Batch 2:  >Loss =  2.08456 | >validation accuracy =  0.2614\n",
      "Epoch  1, CIFAR-10 Batch 3:  >Loss =  1.79592 | >validation accuracy =  0.2884\n",
      "Epoch  1, CIFAR-10 Batch 4:  >Loss =  1.80434 | >validation accuracy =  0.3192\n",
      "Epoch  1, CIFAR-10 Batch 5:  >Loss =  1.77157 | >validation accuracy =  0.3582\n",
      "Epoch  2, CIFAR-10 Batch 1:  >Loss =  2.07728 | >validation accuracy =  0.3758\n",
      "Epoch  2, CIFAR-10 Batch 2:  >Loss =  1.83103 | >validation accuracy =  0.396\n",
      "Epoch  2, CIFAR-10 Batch 3:  >Loss =  1.36998 | >validation accuracy =  0.3972\n",
      "Epoch  2, CIFAR-10 Batch 4:  >Loss =  1.61878 | >validation accuracy =  0.4296\n",
      "Epoch  2, CIFAR-10 Batch 5:  >Loss =  1.51304 | >validation accuracy =  0.431\n",
      "Epoch  3, CIFAR-10 Batch 1:  >Loss =  1.82928 | >validation accuracy =  0.4332\n",
      "Epoch  3, CIFAR-10 Batch 2:  >Loss =  1.60553 | >validation accuracy =  0.445\n",
      "Epoch  3, CIFAR-10 Batch 3:  >Loss =  1.15483 | >validation accuracy =  0.4424\n",
      "Epoch  3, CIFAR-10 Batch 4:  >Loss =  1.47904 | >validation accuracy =  0.472\n",
      "Epoch  3, CIFAR-10 Batch 5:  >Loss =  1.3951 | >validation accuracy =  0.4668\n",
      "Epoch  4, CIFAR-10 Batch 1:  >Loss =  1.65878 | >validation accuracy =  0.4704\n",
      "Epoch  4, CIFAR-10 Batch 2:  >Loss =  1.40713 | >validation accuracy =  0.4722\n",
      "Epoch  4, CIFAR-10 Batch 3:  >Loss =  1.04677 | >validation accuracy =  0.4784\n",
      "Epoch  4, CIFAR-10 Batch 4:  >Loss =  1.36824 | >validation accuracy =  0.4828\n",
      "Epoch  4, CIFAR-10 Batch 5:  >Loss =  1.28028 | >validation accuracy =  0.4988\n",
      "Epoch  5, CIFAR-10 Batch 1:  >Loss =  1.57359 | >validation accuracy =  0.4934\n",
      "Epoch  5, CIFAR-10 Batch 2:  >Loss =  1.28802 | >validation accuracy =  0.4974\n",
      "Epoch  5, CIFAR-10 Batch 3:  >Loss =  0.983064 | >validation accuracy =  0.5026\n",
      "Epoch  5, CIFAR-10 Batch 4:  >Loss =  1.30261 | >validation accuracy =  0.5126\n",
      "Epoch  5, CIFAR-10 Batch 5:  >Loss =  1.19056 | >validation accuracy =  0.521\n",
      "Epoch  6, CIFAR-10 Batch 1:  >Loss =  1.43244 | >validation accuracy =  0.5128\n",
      "Epoch  6, CIFAR-10 Batch 2:  >Loss =  1.19859 | >validation accuracy =  0.5014\n",
      "Epoch  6, CIFAR-10 Batch 3:  >Loss =  0.934986 | >validation accuracy =  0.5182\n",
      "Epoch  6, CIFAR-10 Batch 4:  >Loss =  1.23424 | >validation accuracy =  0.5276\n",
      "Epoch  6, CIFAR-10 Batch 5:  >Loss =  1.09326 | >validation accuracy =  0.5326\n",
      "Epoch  7, CIFAR-10 Batch 1:  >Loss =  1.28967 | >validation accuracy =  0.5354\n",
      "Epoch  7, CIFAR-10 Batch 2:  >Loss =  1.1053 | >validation accuracy =  0.5254\n",
      "Epoch  7, CIFAR-10 Batch 3:  >Loss =  0.879448 | >validation accuracy =  0.5372\n",
      "Epoch  7, CIFAR-10 Batch 4:  >Loss =  1.16356 | >validation accuracy =  0.543\n",
      "Epoch  7, CIFAR-10 Batch 5:  >Loss =  1.05562 | >validation accuracy =  0.5432\n",
      "Epoch  8, CIFAR-10 Batch 1:  >Loss =  1.20862 | >validation accuracy =  0.5426\n",
      "Epoch  8, CIFAR-10 Batch 2:  >Loss =  1.04894 | >validation accuracy =  0.5364\n",
      "Epoch  8, CIFAR-10 Batch 3:  >Loss =  0.841162 | >validation accuracy =  0.5476\n",
      "Epoch  8, CIFAR-10 Batch 4:  >Loss =  1.08426 | >validation accuracy =  0.5492\n",
      "Epoch  8, CIFAR-10 Batch 5:  >Loss =  0.994438 | >validation accuracy =  0.5444\n",
      "Epoch  9, CIFAR-10 Batch 1:  >Loss =  1.13435 | >validation accuracy =  0.5406\n",
      "Epoch  9, CIFAR-10 Batch 2:  >Loss =  0.99954 | >validation accuracy =  0.5402\n",
      "Epoch  9, CIFAR-10 Batch 3:  >Loss =  0.801139 | >validation accuracy =  0.5514\n",
      "Epoch  9, CIFAR-10 Batch 4:  >Loss =  1.00259 | >validation accuracy =  0.5602\n",
      "Epoch  9, CIFAR-10 Batch 5:  >Loss =  0.872007 | >validation accuracy =  0.5598\n",
      "Epoch 10, CIFAR-10 Batch 1:  >Loss =  1.07096 | >validation accuracy =  0.5452\n",
      "Epoch 10, CIFAR-10 Batch 2:  >Loss =  0.915237 | >validation accuracy =  0.5518\n",
      "Epoch 10, CIFAR-10 Batch 3:  >Loss =  0.776185 | >validation accuracy =  0.5596\n",
      "Epoch 10, CIFAR-10 Batch 4:  >Loss =  0.943967 | >validation accuracy =  0.565\n",
      "Epoch 10, CIFAR-10 Batch 5:  >Loss =  0.820073 | >validation accuracy =  0.568\n",
      "Epoch 11, CIFAR-10 Batch 1:  >Loss =  0.976008 | >validation accuracy =  0.557\n",
      "Epoch 11, CIFAR-10 Batch 2:  >Loss =  0.866627 | >validation accuracy =  0.5594\n",
      "Epoch 11, CIFAR-10 Batch 3:  >Loss =  0.741563 | >validation accuracy =  0.5584\n",
      "Epoch 11, CIFAR-10 Batch 4:  >Loss =  0.867899 | >validation accuracy =  0.5734\n",
      "Epoch 11, CIFAR-10 Batch 5:  >Loss =  0.7437 | >validation accuracy =  0.5814\n",
      "Epoch 12, CIFAR-10 Batch 1:  >Loss =  0.924667 | >validation accuracy =  0.5704\n",
      "Epoch 12, CIFAR-10 Batch 2:  >Loss =  0.788719 | >validation accuracy =  0.5712\n",
      "Epoch 12, CIFAR-10 Batch 3:  >Loss =  0.705938 | >validation accuracy =  0.562\n",
      "Epoch 12, CIFAR-10 Batch 4:  >Loss =  0.821669 | >validation accuracy =  0.5808\n",
      "Epoch 12, CIFAR-10 Batch 5:  >Loss =  0.704499 | >validation accuracy =  0.5834\n",
      "Epoch 13, CIFAR-10 Batch 1:  >Loss =  0.92499 | >validation accuracy =  0.5646\n",
      "Epoch 13, CIFAR-10 Batch 2:  >Loss =  0.736181 | >validation accuracy =  0.578\n",
      "Epoch 13, CIFAR-10 Batch 3:  >Loss =  0.652635 | >validation accuracy =  0.576\n",
      "Epoch 13, CIFAR-10 Batch 4:  >Loss =  0.797237 | >validation accuracy =  0.582\n",
      "Epoch 13, CIFAR-10 Batch 5:  >Loss =  0.664449 | >validation accuracy =  0.591\n",
      "Epoch 14, CIFAR-10 Batch 1:  >Loss =  0.87114 | >validation accuracy =  0.58\n",
      "Epoch 14, CIFAR-10 Batch 2:  >Loss =  0.696486 | >validation accuracy =  0.585\n",
      "Epoch 14, CIFAR-10 Batch 3:  >Loss =  0.636563 | >validation accuracy =  0.5656\n",
      "Epoch 14, CIFAR-10 Batch 4:  >Loss =  0.767791 | >validation accuracy =  0.583\n",
      "Epoch 14, CIFAR-10 Batch 5:  >Loss =  0.583561 | >validation accuracy =  0.5946\n",
      "Epoch 15, CIFAR-10 Batch 1:  >Loss =  0.850842 | >validation accuracy =  0.5868\n",
      "Epoch 15, CIFAR-10 Batch 2:  >Loss =  0.660237 | >validation accuracy =  0.5874\n",
      "Epoch 15, CIFAR-10 Batch 3:  >Loss =  0.57997 | >validation accuracy =  0.5772\n",
      "Epoch 15, CIFAR-10 Batch 4:  >Loss =  0.723514 | >validation accuracy =  0.5956\n",
      "Epoch 15, CIFAR-10 Batch 5:  >Loss =  0.539782 | >validation accuracy =  0.6014\n",
      "Epoch 16, CIFAR-10 Batch 1:  >Loss =  0.801637 | >validation accuracy =  0.5928\n",
      "Epoch 16, CIFAR-10 Batch 2:  >Loss =  0.644695 | >validation accuracy =  0.5848\n",
      "Epoch 16, CIFAR-10 Batch 3:  >Loss =  0.566424 | >validation accuracy =  0.5838\n",
      "Epoch 16, CIFAR-10 Batch 4:  >Loss =  0.658959 | >validation accuracy =  0.593\n",
      "Epoch 16, CIFAR-10 Batch 5:  >Loss =  0.496708 | >validation accuracy =  0.6056\n",
      "Epoch 17, CIFAR-10 Batch 1:  >Loss =  0.757154 | >validation accuracy =  0.5982\n",
      "Epoch 17, CIFAR-10 Batch 2:  >Loss =  0.59634 | >validation accuracy =  0.5912\n",
      "Epoch 17, CIFAR-10 Batch 3:  >Loss =  0.529374 | >validation accuracy =  0.5938\n",
      "Epoch 17, CIFAR-10 Batch 4:  >Loss =  0.635809 | >validation accuracy =  0.6044\n",
      "Epoch 17, CIFAR-10 Batch 5:  >Loss =  0.476341 | >validation accuracy =  0.6016\n",
      "Epoch 18, CIFAR-10 Batch 1:  >Loss =  0.726663 | >validation accuracy =  0.5942\n",
      "Epoch 18, CIFAR-10 Batch 2:  >Loss =  0.572078 | >validation accuracy =  0.5976\n",
      "Epoch 18, CIFAR-10 Batch 3:  >Loss =  0.472272 | >validation accuracy =  0.6006\n",
      "Epoch 18, CIFAR-10 Batch 4:  >Loss =  0.575149 | >validation accuracy =  0.6096\n",
      "Epoch 18, CIFAR-10 Batch 5:  >Loss =  0.452316 | >validation accuracy =  0.6074\n",
      "Epoch 19, CIFAR-10 Batch 1:  >Loss =  0.683168 | >validation accuracy =  0.6088\n",
      "Epoch 19, CIFAR-10 Batch 2:  >Loss =  0.53001 | >validation accuracy =  0.602\n",
      "Epoch 19, CIFAR-10 Batch 3:  >Loss =  0.474176 | >validation accuracy =  0.6014\n",
      "Epoch 19, CIFAR-10 Batch 4:  >Loss =  0.553756 | >validation accuracy =  0.6038\n",
      "Epoch 19, CIFAR-10 Batch 5:  >Loss =  0.445084 | >validation accuracy =  0.6034\n",
      "Epoch 20, CIFAR-10 Batch 1:  >Loss =  0.660494 | >validation accuracy =  0.6094\n",
      "Epoch 20, CIFAR-10 Batch 2:  >Loss =  0.478258 | >validation accuracy =  0.6128\n",
      "Epoch 20, CIFAR-10 Batch 3:  >Loss =  0.432384 | >validation accuracy =  0.606\n",
      "Epoch 20, CIFAR-10 Batch 4:  >Loss =  0.534052 | >validation accuracy =  0.6146\n",
      "Epoch 20, CIFAR-10 Batch 5:  >Loss =  0.395941 | >validation accuracy =  0.619\n",
      "Epoch 21, CIFAR-10 Batch 1:  >Loss =  0.628597 | >validation accuracy =  0.6098\n",
      "Epoch 21, CIFAR-10 Batch 2:  >Loss =  0.507599 | >validation accuracy =  0.6064\n",
      "Epoch 21, CIFAR-10 Batch 3:  >Loss =  0.414086 | >validation accuracy =  0.6092\n",
      "Epoch 21, CIFAR-10 Batch 4:  >Loss =  0.5231 | >validation accuracy =  0.6148\n",
      "Epoch 21, CIFAR-10 Batch 5:  >Loss =  0.384968 | >validation accuracy =  0.6128\n",
      "Epoch 22, CIFAR-10 Batch 1:  >Loss =  0.582916 | >validation accuracy =  0.6164\n",
      "Epoch 22, CIFAR-10 Batch 2:  >Loss =  0.4405 | >validation accuracy =  0.6164\n",
      "Epoch 22, CIFAR-10 Batch 3:  >Loss =  0.383808 | >validation accuracy =  0.6152\n",
      "Epoch 22, CIFAR-10 Batch 4:  >Loss =  0.509466 | >validation accuracy =  0.6282\n",
      "Epoch 22, CIFAR-10 Batch 5:  >Loss =  0.348036 | >validation accuracy =  0.6204\n",
      "Epoch 23, CIFAR-10 Batch 1:  >Loss =  0.559372 | >validation accuracy =  0.6154\n",
      "Epoch 23, CIFAR-10 Batch 2:  >Loss =  0.416754 | >validation accuracy =  0.6148\n",
      "Epoch 23, CIFAR-10 Batch 3:  >Loss =  0.396721 | >validation accuracy =  0.6116\n",
      "Epoch 23, CIFAR-10 Batch 4:  >Loss =  0.453277 | >validation accuracy =  0.6272\n",
      "Epoch 23, CIFAR-10 Batch 5:  >Loss =  0.339055 | >validation accuracy =  0.6174\n",
      "Epoch 24, CIFAR-10 Batch 1:  >Loss =  0.537023 | >validation accuracy =  0.6202\n",
      "Epoch 24, CIFAR-10 Batch 2:  >Loss =  0.408065 | >validation accuracy =  0.6136\n",
      "Epoch 24, CIFAR-10 Batch 3:  >Loss =  0.356854 | >validation accuracy =  0.615\n",
      "Epoch 24, CIFAR-10 Batch 4:  >Loss =  0.435442 | >validation accuracy =  0.63\n",
      "Epoch 24, CIFAR-10 Batch 5:  >Loss =  0.310219 | >validation accuracy =  0.624\n",
      "Epoch 25, CIFAR-10 Batch 1:  >Loss =  0.523197 | >validation accuracy =  0.6226\n",
      "Epoch 25, CIFAR-10 Batch 2:  >Loss =  0.361155 | >validation accuracy =  0.626\n",
      "Epoch 25, CIFAR-10 Batch 3:  >Loss =  0.352113 | >validation accuracy =  0.6184\n",
      "Epoch 25, CIFAR-10 Batch 4:  >Loss =  0.408637 | >validation accuracy =  0.628\n",
      "Epoch 25, CIFAR-10 Batch 5:  >Loss =  0.280598 | >validation accuracy =  0.6312\n",
      "Epoch 26, CIFAR-10 Batch 1:  >Loss =  0.498424 | >validation accuracy =  0.6162\n",
      "Epoch 26, CIFAR-10 Batch 2:  >Loss =  0.364623 | >validation accuracy =  0.6272\n",
      "Epoch 26, CIFAR-10 Batch 3:  >Loss =  0.327428 | >validation accuracy =  0.6264\n",
      "Epoch 26, CIFAR-10 Batch 4:  >Loss =  0.402611 | >validation accuracy =  0.632\n",
      "Epoch 26, CIFAR-10 Batch 5:  >Loss =  0.276756 | >validation accuracy =  0.629\n",
      "Epoch 27, CIFAR-10 Batch 1:  >Loss =  0.465365 | >validation accuracy =  0.6138\n",
      "Epoch 27, CIFAR-10 Batch 2:  >Loss =  0.325163 | >validation accuracy =  0.6318\n",
      "Epoch 27, CIFAR-10 Batch 3:  >Loss =  0.314199 | >validation accuracy =  0.6308\n",
      "Epoch 27, CIFAR-10 Batch 4:  >Loss =  0.395274 | >validation accuracy =  0.6262\n",
      "Epoch 27, CIFAR-10 Batch 5:  >Loss =  0.250564 | >validation accuracy =  0.6274\n",
      "Epoch 28, CIFAR-10 Batch 1:  >Loss =  0.454488 | >validation accuracy =  0.6174\n",
      "Epoch 28, CIFAR-10 Batch 2:  >Loss =  0.308331 | >validation accuracy =  0.6298\n",
      "Epoch 28, CIFAR-10 Batch 3:  >Loss =  0.290433 | >validation accuracy =  0.6332\n",
      "Epoch 28, CIFAR-10 Batch 4:  >Loss =  0.350965 | >validation accuracy =  0.6364\n",
      "Epoch 28, CIFAR-10 Batch 5:  >Loss =  0.240751 | >validation accuracy =  0.6358\n",
      "Epoch 29, CIFAR-10 Batch 1:  >Loss =  0.421338 | >validation accuracy =  0.6172\n",
      "Epoch 29, CIFAR-10 Batch 2:  >Loss =  0.320309 | >validation accuracy =  0.6276\n",
      "Epoch 29, CIFAR-10 Batch 3:  >Loss =  0.294295 | >validation accuracy =  0.6344\n",
      "Epoch 29, CIFAR-10 Batch 4:  >Loss =  0.341514 | >validation accuracy =  0.6378\n",
      "Epoch 29, CIFAR-10 Batch 5:  >Loss =  0.255466 | >validation accuracy =  0.6298\n",
      "Epoch 30, CIFAR-10 Batch 1:  >Loss =  0.389012 | >validation accuracy =  0.6266\n",
      "Epoch 30, CIFAR-10 Batch 2:  >Loss =  0.305449 | >validation accuracy =  0.6284\n",
      "Epoch 30, CIFAR-10 Batch 3:  >Loss =  0.296166 | >validation accuracy =  0.6248\n",
      "Epoch 30, CIFAR-10 Batch 4:  >Loss =  0.327651 | >validation accuracy =  0.6332\n",
      "Epoch 30, CIFAR-10 Batch 5:  >Loss =  0.234886 | >validation accuracy =  0.6336\n",
      "Epoch 31, CIFAR-10 Batch 1:  >Loss =  0.412284 | >validation accuracy =  0.623\n",
      "Epoch 31, CIFAR-10 Batch 2:  >Loss =  0.314054 | >validation accuracy =  0.6246\n",
      "Epoch 31, CIFAR-10 Batch 3:  >Loss =  0.297476 | >validation accuracy =  0.6212\n",
      "Epoch 31, CIFAR-10 Batch 4:  >Loss =  0.323332 | >validation accuracy =  0.6394\n",
      "Epoch 31, CIFAR-10 Batch 5:  >Loss =  0.225799 | >validation accuracy =  0.6314\n",
      "Epoch 32, CIFAR-10 Batch 1:  >Loss =  0.39419 | >validation accuracy =  0.613\n",
      "Epoch 32, CIFAR-10 Batch 2:  >Loss =  0.271227 | >validation accuracy =  0.6378\n",
      "Epoch 32, CIFAR-10 Batch 3:  >Loss =  0.276566 | >validation accuracy =  0.6226\n",
      "Epoch 32, CIFAR-10 Batch 4:  >Loss =  0.303076 | >validation accuracy =  0.6372\n",
      "Epoch 32, CIFAR-10 Batch 5:  >Loss =  0.214043 | >validation accuracy =  0.6386\n",
      "Epoch 33, CIFAR-10 Batch 1:  >Loss =  0.37957 | >validation accuracy =  0.6278\n",
      "Epoch 33, CIFAR-10 Batch 2:  >Loss =  0.270564 | >validation accuracy =  0.6374\n",
      "Epoch 33, CIFAR-10 Batch 3:  >Loss =  0.265795 | >validation accuracy =  0.6302\n",
      "Epoch 33, CIFAR-10 Batch 4:  >Loss =  0.29989 | >validation accuracy =  0.6414\n",
      "Epoch 33, CIFAR-10 Batch 5:  >Loss =  0.190452 | >validation accuracy =  0.6446\n",
      "Epoch 34, CIFAR-10 Batch 1:  >Loss =  0.355375 | >validation accuracy =  0.637\n",
      "Epoch 34, CIFAR-10 Batch 2:  >Loss =  0.240445 | >validation accuracy =  0.6402\n",
      "Epoch 34, CIFAR-10 Batch 3:  >Loss =  0.277145 | >validation accuracy =  0.6236\n",
      "Epoch 34, CIFAR-10 Batch 4:  >Loss =  0.289924 | >validation accuracy =  0.6426\n",
      "Epoch 34, CIFAR-10 Batch 5:  >Loss =  0.184744 | >validation accuracy =  0.6352\n",
      "Epoch 35, CIFAR-10 Batch 1:  >Loss =  0.357884 | >validation accuracy =  0.6386\n",
      "Epoch 35, CIFAR-10 Batch 2:  >Loss =  0.310721 | >validation accuracy =  0.638\n",
      "Epoch 35, CIFAR-10 Batch 3:  >Loss =  0.253143 | >validation accuracy =  0.6346\n",
      "Epoch 35, CIFAR-10 Batch 4:  >Loss =  0.28762 | >validation accuracy =  0.6346\n",
      "Epoch 35, CIFAR-10 Batch 5:  >Loss =  0.183058 | >validation accuracy =  0.6404\n",
      "Epoch 36, CIFAR-10 Batch 1:  >Loss =  0.358975 | >validation accuracy =  0.6336\n",
      "Epoch 36, CIFAR-10 Batch 2:  >Loss =  0.280297 | >validation accuracy =  0.6362\n",
      "Epoch 36, CIFAR-10 Batch 3:  >Loss =  0.243405 | >validation accuracy =  0.6358\n",
      "Epoch 36, CIFAR-10 Batch 4:  >Loss =  0.273227 | >validation accuracy =  0.6432\n",
      "Epoch 36, CIFAR-10 Batch 5:  >Loss =  0.172043 | >validation accuracy =  0.6484\n",
      "Epoch 37, CIFAR-10 Batch 1:  >Loss =  0.321489 | >validation accuracy =  0.6372\n",
      "Epoch 37, CIFAR-10 Batch 2:  >Loss =  0.24999 | >validation accuracy =  0.6388\n",
      "Epoch 37, CIFAR-10 Batch 3:  >Loss =  0.238272 | >validation accuracy =  0.6364\n",
      "Epoch 37, CIFAR-10 Batch 4:  >Loss =  0.248459 | >validation accuracy =  0.6396\n",
      "Epoch 37, CIFAR-10 Batch 5:  >Loss =  0.179011 | >validation accuracy =  0.6416\n",
      "Epoch 38, CIFAR-10 Batch 1:  >Loss =  0.299341 | >validation accuracy =  0.6364\n",
      "Epoch 38, CIFAR-10 Batch 2:  >Loss =  0.244335 | >validation accuracy =  0.6492\n",
      "Epoch 38, CIFAR-10 Batch 3:  >Loss =  0.222401 | >validation accuracy =  0.6402\n",
      "Epoch 38, CIFAR-10 Batch 4:  >Loss =  0.267095 | >validation accuracy =  0.6402\n",
      "Epoch 38, CIFAR-10 Batch 5:  >Loss =  0.172448 | >validation accuracy =  0.6476\n",
      "Epoch 39, CIFAR-10 Batch 1:  >Loss =  0.308448 | >validation accuracy =  0.6444\n",
      "Epoch 39, CIFAR-10 Batch 2:  >Loss =  0.246053 | >validation accuracy =  0.6446\n",
      "Epoch 39, CIFAR-10 Batch 3:  >Loss =  0.211842 | >validation accuracy =  0.646\n",
      "Epoch 39, CIFAR-10 Batch 4:  >Loss =  0.244242 | >validation accuracy =  0.6424\n",
      "Epoch 39, CIFAR-10 Batch 5:  >Loss =  0.158743 | >validation accuracy =  0.65\n",
      "Epoch 40, CIFAR-10 Batch 1:  >Loss =  0.276503 | >validation accuracy =  0.6356\n",
      "Epoch 40, CIFAR-10 Batch 2:  >Loss =  0.234079 | >validation accuracy =  0.636\n",
      "Epoch 40, CIFAR-10 Batch 3:  >Loss =  0.209296 | >validation accuracy =  0.64\n",
      "Epoch 40, CIFAR-10 Batch 4:  >Loss =  0.234591 | >validation accuracy =  0.6374\n",
      "Epoch 40, CIFAR-10 Batch 5:  >Loss =  0.159534 | >validation accuracy =  0.6536\n",
      "Epoch 41, CIFAR-10 Batch 1:  >Loss =  0.261932 | >validation accuracy =  0.6362\n",
      "Epoch 41, CIFAR-10 Batch 2:  >Loss =  0.214438 | >validation accuracy =  0.6354\n",
      "Epoch 41, CIFAR-10 Batch 3:  >Loss =  0.200232 | >validation accuracy =  0.6388\n",
      "Epoch 41, CIFAR-10 Batch 4:  >Loss =  0.234956 | >validation accuracy =  0.638\n",
      "Epoch 41, CIFAR-10 Batch 5:  >Loss =  0.1576 | >validation accuracy =  0.6474\n"
     ]
    },
    {
     "name": "stdout",
     "output_type": "stream",
     "text": [
      "Epoch 42, CIFAR-10 Batch 1:  >Loss =  0.25263 | >validation accuracy =  0.6356\n",
      "Epoch 42, CIFAR-10 Batch 2:  >Loss =  0.206147 | >validation accuracy =  0.6392\n",
      "Epoch 42, CIFAR-10 Batch 3:  >Loss =  0.195626 | >validation accuracy =  0.642\n",
      "Epoch 42, CIFAR-10 Batch 4:  >Loss =  0.243091 | >validation accuracy =  0.64\n",
      "Epoch 42, CIFAR-10 Batch 5:  >Loss =  0.149806 | >validation accuracy =  0.6482\n",
      "Epoch 43, CIFAR-10 Batch 1:  >Loss =  0.252768 | >validation accuracy =  0.6378\n",
      "Epoch 43, CIFAR-10 Batch 2:  >Loss =  0.191423 | >validation accuracy =  0.6412\n",
      "Epoch 43, CIFAR-10 Batch 3:  >Loss =  0.185145 | >validation accuracy =  0.6428\n",
      "Epoch 43, CIFAR-10 Batch 4:  >Loss =  0.212091 | >validation accuracy =  0.6408\n",
      "Epoch 43, CIFAR-10 Batch 5:  >Loss =  0.144491 | >validation accuracy =  0.644\n",
      "Epoch 44, CIFAR-10 Batch 1:  >Loss =  0.226142 | >validation accuracy =  0.6386\n",
      "Epoch 44, CIFAR-10 Batch 2:  >Loss =  0.19877 | >validation accuracy =  0.6328\n",
      "Epoch 44, CIFAR-10 Batch 3:  >Loss =  0.185602 | >validation accuracy =  0.641\n",
      "Epoch 44, CIFAR-10 Batch 4:  >Loss =  0.214731 | >validation accuracy =  0.6386\n",
      "Epoch 44, CIFAR-10 Batch 5:  >Loss =  0.137009 | >validation accuracy =  0.6472\n",
      "Epoch 45, CIFAR-10 Batch 1:  >Loss =  0.227957 | >validation accuracy =  0.6354\n",
      "Epoch 45, CIFAR-10 Batch 2:  >Loss =  0.199054 | >validation accuracy =  0.6264\n",
      "Epoch 45, CIFAR-10 Batch 3:  >Loss =  0.186996 | >validation accuracy =  0.638\n",
      "Epoch 45, CIFAR-10 Batch 4:  >Loss =  0.212656 | >validation accuracy =  0.6408\n",
      "Epoch 45, CIFAR-10 Batch 5:  >Loss =  0.140315 | >validation accuracy =  0.6486\n",
      "Epoch 46, CIFAR-10 Batch 1:  >Loss =  0.226636 | >validation accuracy =  0.628\n",
      "Epoch 46, CIFAR-10 Batch 2:  >Loss =  0.206123 | >validation accuracy =  0.625\n",
      "Epoch 46, CIFAR-10 Batch 3:  >Loss =  0.192744 | >validation accuracy =  0.6308\n",
      "Epoch 46, CIFAR-10 Batch 4:  >Loss =  0.263101 | >validation accuracy =  0.6292\n",
      "Epoch 46, CIFAR-10 Batch 5:  >Loss =  0.134231 | >validation accuracy =  0.6502\n",
      "Epoch 47, CIFAR-10 Batch 1:  >Loss =  0.208712 | >validation accuracy =  0.6378\n",
      "Epoch 47, CIFAR-10 Batch 2:  >Loss =  0.191707 | >validation accuracy =  0.6284\n",
      "Epoch 47, CIFAR-10 Batch 3:  >Loss =  0.18041 | >validation accuracy =  0.641\n",
      "Epoch 47, CIFAR-10 Batch 4:  >Loss =  0.247121 | >validation accuracy =  0.63\n",
      "Epoch 47, CIFAR-10 Batch 5:  >Loss =  0.139884 | >validation accuracy =  0.6536\n",
      "Epoch 48, CIFAR-10 Batch 1:  >Loss =  0.216716 | >validation accuracy =  0.6282\n",
      "Epoch 48, CIFAR-10 Batch 2:  >Loss =  0.161789 | >validation accuracy =  0.6318\n",
      "Epoch 48, CIFAR-10 Batch 3:  >Loss =  0.162271 | >validation accuracy =  0.6396\n",
      "Epoch 48, CIFAR-10 Batch 4:  >Loss =  0.213915 | >validation accuracy =  0.6354\n",
      "Epoch 48, CIFAR-10 Batch 5:  >Loss =  0.142964 | >validation accuracy =  0.6508\n",
      "Epoch 49, CIFAR-10 Batch 1:  >Loss =  0.214007 | >validation accuracy =  0.6386\n",
      "Epoch 49, CIFAR-10 Batch 2:  >Loss =  0.153248 | >validation accuracy =  0.6348\n",
      "Epoch 49, CIFAR-10 Batch 3:  >Loss =  0.167073 | >validation accuracy =  0.6428\n",
      "Epoch 49, CIFAR-10 Batch 4:  >Loss =  0.195711 | >validation accuracy =  0.6348\n",
      "Epoch 49, CIFAR-10 Batch 5:  >Loss =  0.143993 | >validation accuracy =  0.6424\n",
      "Epoch 50, CIFAR-10 Batch 1:  >Loss =  0.19073 | >validation accuracy =  0.6318\n",
      "Epoch 50, CIFAR-10 Batch 2:  >Loss =  0.16678 | >validation accuracy =  0.64\n",
      "Epoch 50, CIFAR-10 Batch 3:  >Loss =  0.151505 | >validation accuracy =  0.64\n",
      "Epoch 50, CIFAR-10 Batch 4:  >Loss =  0.195026 | >validation accuracy =  0.629\n",
      "Epoch 50, CIFAR-10 Batch 5:  >Loss =  0.126489 | >validation accuracy =  0.6442\n"
     ]
    }
   ],
   "source": [
    "\"\"\"\n",
    "DON'T MODIFY ANYTHING IN THIS CELL\n",
    "\"\"\"\n",
    "save_model_path = './image_classification'\n",
    "\n",
    "print('Training...')\n",
    "with tf.Session() as sess:\n",
    "    # Initializing the variables\n",
    "    sess.run(tf.global_variables_initializer())\n",
    "    \n",
    "    # Training cycle\n",
    "    for epoch in range(epochs):\n",
    "        # Loop over all batches\n",
    "        n_batches = 5\n",
    "        for batch_i in range(1, n_batches + 1):\n",
    "            for batch_features, batch_labels in helper.load_preprocess_training_batch(batch_i, batch_size):\n",
    "                train_neural_network(sess, optimizer, keep_probability, batch_features, batch_labels)\n",
    "            print('Epoch {:>2}, CIFAR-10 Batch {}:  '.format(epoch + 1, batch_i), end='')\n",
    "            print_stats(sess, batch_features, batch_labels, cost, accuracy)\n",
    "            \n",
    "    # Save Model\n",
    "    saver = tf.train.Saver()\n",
    "    save_path = saver.save(sess, save_model_path)"
   ]
  },
  {
   "cell_type": "markdown",
   "metadata": {},
   "source": [
    "# Checkpoint\n",
    "The model has been saved to disk.\n",
    "## Test Model\n",
    "Test your model against the test dataset.  This will be your final accuracy. You should have an accuracy greater than 50%. If you don't, keep tweaking the model architecture and parameters."
   ]
  },
  {
   "cell_type": "code",
   "execution_count": 89,
   "metadata": {},
   "outputs": [
    {
     "name": "stdout",
     "output_type": "stream",
     "text": [
      "Testing Accuracy: 0.63212890625\n",
      "\n"
     ]
    },
    {
     "data": {
      "image/png": "[encoded data removed]",
      "text/plain": [
       "<matplotlib.figure.Figure at 0x24980f02c50>"
      ]
     },
     "metadata": {
      "image/png": {
       "height": 319,
       "width": 355
      }
     },
     "output_type": "display_data"
    }
   ],
   "source": [
    "\"\"\"\n",
    "DON'T MODIFY ANYTHING IN THIS CELL\n",
    "\"\"\"\n",
    "%matplotlib inline\n",
    "%config InlineBackend.figure_format = 'retina'\n",
    "\n",
    "import tensorflow as tf\n",
    "import pickle\n",
    "import helper\n",
    "import random\n",
    "\n",
    "# Set batch size if not already set\n",
    "try:\n",
    "    if batch_size:\n",
    "        pass\n",
    "except NameError:\n",
    "    batch_size = 64\n",
    "\n",
    "save_model_path = './image_classification'\n",
    "n_samples = 4\n",
    "top_n_predictions = 3\n",
    "\n",
    "def test_model():\n",
    "    \"\"\"\n",
    "    Test the saved model against the test dataset\n",
    "    \"\"\"\n",
    "\n",
    "    test_features, test_labels = pickle.load(open('preprocess_test.p', mode='rb'))\n",
    "    loaded_graph = tf.Graph()\n",
    "\n",
    "    with tf.Session(graph=loaded_graph) as sess:\n",
    "        # Load model\n",
    "        loader = tf.train.import_meta_graph(save_model_path + '.meta')\n",
    "        loader.restore(sess, save_model_path)\n",
    "\n",
    "        # Get Tensors from loaded model\n",
    "        loaded_x = loaded_graph.get_tensor_by_name('x:0')\n",
    "        loaded_y = loaded_graph.get_tensor_by_name('y:0')\n",
    "        loaded_keep_prob = loaded_graph.get_tensor_by_name('keep_prob:0')\n",
    "        loaded_logits = loaded_graph.get_tensor_by_name('logits:0')\n",
    "        loaded_acc = loaded_graph.get_tensor_by_name('accuracy:0')\n",
    "        \n",
    "        # Get accuracy in batches for memory limitations\n",
    "        test_batch_acc_total = 0\n",
    "        test_batch_count = 0\n",
    "        \n",
    "        for test_feature_batch, test_label_batch in helper.batch_features_labels(test_features, test_labels, batch_size):\n",
    "            test_batch_acc_total += sess.run(\n",
    "                loaded_acc,\n",
    "                feed_dict={loaded_x: test_feature_batch, loaded_y: test_label_batch, loaded_keep_prob: 1.0})\n",
    "            test_batch_count += 1\n",
    "\n",
    "        print('Testing Accuracy: {}\\n'.format(test_batch_acc_total/test_batch_count))\n",
    "\n",
    "        # Print Random Samples\n",
    "        random_test_features, random_test_labels = tuple(zip(*random.sample(list(zip(test_features, test_labels)), n_samples)))\n",
    "        random_test_predictions = sess.run(\n",
    "            tf.nn.top_k(tf.nn.softmax(loaded_logits), top_n_predictions),\n",
    "            feed_dict={loaded_x: random_test_features, loaded_y: random_test_labels, loaded_keep_prob: 1.0})\n",
    "        helper.display_image_predictions(random_test_features, random_test_labels, random_test_predictions)\n",
    "\n",
    "\n",
    "test_model()"
   ]
  },
  {
   "cell_type": "markdown",
   "metadata": {},
   "source": [
    "## Why 50-80% Accuracy?\n",
    "You might be wondering why you can't get an accuracy any higher. First things first, 50% isn't bad for a simple CNN.  Pure guessing would get you 10% accuracy. However, you might notice people are getting scores [well above 80%](http://rodrigob.github.io/are_we_there_yet/build/classification_datasets_results.html#43494641522d3130).  That's because we haven't taught you all there is to know about neural networks. We still need to cover a few more techniques.\n",
    "## Submitting This Project\n",
    "When submitting this project, make sure to run all the cells before saving the notebook.  Save the notebook file as \"dlnd_image_classification.ipynb\" and save it as a HTML file under \"File\" -> \"Download as\".  Include the \"helper.py\" and \"problem_unittests.py\" files in your submission."
   ]
  },
  {
   "cell_type": "code",
   "execution_count": null,
   "metadata": {
    "collapsed": true
   },
   "outputs": [],
   "source": []
  }
 ],
 "metadata": {
  "kernelspec": {
   "display_name": "Python [conda env:dlnd-tf-lab]",
   "language": "python",
   "name": "conda-env-dlnd-tf-lab-py"
  },
  "language_info": {
   "codemirror_mode": {
    "name": "ipython",
    "version": 3
   },
   "file_extension": ".py",
   "mimetype": "text/x-python",
   "name": "python",
   "nbconvert_exporter": "python",
   "pygments_lexer": "ipython3",
   "version": "3.5.2"
  }
 },
 "nbformat": 4,
 "nbformat_minor": 1
}
